{
 "cells": [
  {
   "cell_type": "code",
   "execution_count": 4,
   "id": "822377e9",
   "metadata": {},
   "outputs": [],
   "source": [
    "import os\n",
    "from dotenv import load_dotenv\n",
    "from pathlib import Path\n",
    "\n",
    "dotenv_path = Path('.env')\n",
    "load_dotenv(dotenv_path=dotenv_path)\n",
    "llm_api_key=os.getenv(\"deepseekkey\")"
   ]
  },
  {
   "cell_type": "code",
   "execution_count": 21,
   "id": "566175b3",
   "metadata": {},
   "outputs": [
    {
     "name": "stdout",
     "output_type": "stream",
     "text": [
      "None\n",
      "openai/gpt-oss-20b:free\n",
      "1\n"
     ]
    }
   ],
   "source": [
    "from crewai import Agent, Task, Crew, Process, LLM\n",
    "\n",
    "llm= LLM(model=\"openai/gpt-oss-20b:free\",api_key=llm_api_key,base_url=\"https://openrouter.ai/api/v1\")\n",
    "\n",
    "# Create an agent\n",
    "agent = Agent(\n",
    "    role=\"Researcher\",\n",
    "    goal=\"Find the latest AI trends\",\n",
    "    backstory=\"An expert in AI news and emerging technologies.\",\n",
    "    llm=llm\n",
    ")\n",
    "\n",
    "# Create a task for that agent\n",
    "task = Task(\n",
    "    description=\"Research top 3 AI trends in 2025 and summarize them in bullet points.\",\n",
    "    expected_output=\"A concise bullet-point list of 3 AI trends.\",\n",
    "    agent=agent\n",
    ")\n",
    "\n",
    "# Assemble the crew\n",
    "crew = Crew(\n",
    "    agents=[agent],\n",
    "    tasks=[task],\n",
    "    process=Process.sequential,\n",
    "    verbose=True\n",
    ")\n",
    "print(agent)\n",
    "# Run it\n"
   ]
  },
  {
   "cell_type": "code",
   "execution_count": null,
   "id": "7b6c0a56",
   "metadata": {},
   "outputs": [],
   "source": [
    "if __name__ == \"__main__\":\n",
    "    \n",
    "    result = crew.kickoff()\n",
    "    print(\"\\n=== Final Output ===\")\n",
    "    print(result)\n"
   ]
  },
  {
   "cell_type": "code",
   "execution_count": null,
   "id": "0549460f",
   "metadata": {},
   "outputs": [],
   "source": [
    "import requests, os\n",
    "headers = {\"Authorization\": f\"Bearer {llm_api_key}\"}\n",
    "resp=requests.get(\"https://openrouter.ai/api/v1/models\", headers=headers)\n",
    "free_models = [m[\"id\"] for m in resp.json().get(\"data\", []) if m[\"id\"].endswith(\":free\")]\n",
    "for m in free_models:\n",
    "    print(m)"
   ]
  },
  {
   "cell_type": "code",
   "execution_count": null,
   "id": "128918e8",
   "metadata": {},
   "outputs": [],
   "source": []
  }
 ],
 "metadata": {
  "kernelspec": {
   "display_name": "base",
   "language": "python",
   "name": "python3"
  },
  "language_info": {
   "codemirror_mode": {
    "name": "ipython",
    "version": 3
   },
   "file_extension": ".py",
   "mimetype": "text/x-python",
   "name": "python",
   "nbconvert_exporter": "python",
   "pygments_lexer": "ipython3",
   "version": "3.12.7"
  }
 },
 "nbformat": 4,
 "nbformat_minor": 5
}
