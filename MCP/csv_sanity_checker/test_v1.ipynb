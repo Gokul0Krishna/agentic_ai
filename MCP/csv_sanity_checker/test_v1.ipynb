{
 "cells": [
  {
   "cell_type": "code",
   "execution_count": 35,
   "id": "f5fcc95b",
   "metadata": {},
   "outputs": [],
   "source": [
    "from langchain_core.tools import tool\n",
    "from langgraph.prebuilt import ToolNode\n",
    "from file_functions import File\n",
    "\n",
    "@tool\n",
    "def information(file_path):\n",
    "    'returns file information'\n",
    "    val=File(file_location=file_path)\n",
    "    return val.discribe_df()\n",
    "\n",
    "tools=[information]\n",
    "toolnode=ToolNode(tools=tools)"
   ]
  },
  {
   "cell_type": "code",
   "execution_count": 42,
   "id": "a81fdbd0",
   "metadata": {},
   "outputs": [],
   "source": [
    "from langchain_community.llms import Ollama\n",
    "from langchain.agents import initialize_agent, Tool\n",
    "llm = Ollama(model=\"llama3.2\")\n"
   ]
  },
  {
   "cell_type": "code",
   "execution_count": 72,
   "id": "4fe3eea7",
   "metadata": {},
   "outputs": [],
   "source": [
    "from langchain_core.messages import BaseMessage,ToolMessage,SystemMessage,HumanMessage,AIMessage\n",
    "from langgraph.graph import StateGraph, END ,MessagesState, START\n",
    "from langgraph.prebuilt import ToolNode\n",
    "from langgraph.graph.message import add_messages\n",
    "\n",
    "def decision(state:MessagesState):\n",
    "    a=input(\"should continue\")\n",
    "    if 'exit' == a.lower():\n",
    "        return \"end\"\n",
    "    else:\n",
    "        return \"continue\"\n",
    "    \n",
    "def choose(state:MessagesState):\n",
    "    # a=input('Query')\n",
    "    a='analysis'\n",
    "    if 'analysis' in a.lower():\n",
    "        return 'analysis'\n",
    "\n",
    "def analysis(state:MessagesState):\n",
    "    systemprompt=[SystemMessage(content='You are a data analyst. you are provided infromatoion about a csv file now use that information to make a report.'),\n",
    "    HumanMessage(content=information.func(r\"C:\\Users\\ASUS\\OneDrive\\Desktop\\code\\datasets\\protein.csv\"))]\n",
    "    response=llm.invoke(systemprompt)\n",
    "    print(response)\n",
    "    return {\"messages\": state['messages']+[response]}\n",
    "\n",
    "    \n",
    "def contin(state:MessagesState):\n",
    "    a=input('what are you')\n",
    "    systemprompt=[SystemMessage(content='you are a helpful assistant'),\n",
    "    HumanMessage(content=a)]\n",
    "    response = llm.invoke(systemprompt)\n",
    "    print(response.content)\n",
    "    return {\"messages\": state['messages']+[response]}"
   ]
  },
  {
   "cell_type": "code",
   "execution_count": 73,
   "id": "1ad591ec",
   "metadata": {},
   "outputs": [],
   "source": [
    "graph = StateGraph(MessagesState)\n",
    "graph.add_node('dec1',lambda state:state)\n",
    "graph.add_node('choose',lambda state:state)\n",
    "graph.add_node('analysis',analysis)\n",
    "graph.set_entry_point('dec1')\n",
    "graph.add_conditional_edges(\n",
    "    'dec1',\n",
    "    decision,\n",
    "    {\n",
    "        \"continue\":\"choose\",\n",
    "        \"end\": END,\n",
    "    }\n",
    ")\n",
    "graph.add_conditional_edges(\n",
    "    'choose',\n",
    "    choose,\n",
    "    {\n",
    "        'analysis':'analysis',\n",
    "        \"fitting\":END,\n",
    "    }\n",
    ")\n",
    "# graph.add_edge('analysis','dec1')\n",
    "app = graph.compile()"
   ]
  },
  {
   "cell_type": "code",
   "execution_count": 74,
   "id": "2c32a43b",
   "metadata": {},
   "outputs": [
    {
     "data": {
      "image/png": "[encoded data removed]",
      "text/plain": [
       "<IPython.core.display.Image object>"
      ]
     },
     "metadata": {},
     "output_type": "display_data"
    }
   ],
   "source": [
    "from IPython.display import Image,display\n",
    "display(Image(app.get_graph().draw_mermaid_png()))"
   ]
  },
  {
   "cell_type": "code",
   "execution_count": null,
   "id": "e718d144",
   "metadata": {},
   "outputs": [],
   "source": [
    "res = app.invoke({\"messages\": [\"blablabla\"]})\n",
    "print(res['messages'])"
   ]
  }
 ],
 "metadata": {
  "kernelspec": {
   "display_name": "base",
   "language": "python",
   "name": "python3"
  },
  "language_info": {
   "codemirror_mode": {
    "name": "ipython",
    "version": 3
   },
   "file_extension": ".py",
   "mimetype": "text/x-python",
   "name": "python",
   "nbconvert_exporter": "python",
   "pygments_lexer": "ipython3",
   "version": "3.12.7"
  }
 },
 "nbformat": 4,
 "nbformat_minor": 5
}
