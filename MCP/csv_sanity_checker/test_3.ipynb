{
 "cells": [
  {
   "cell_type": "code",
   "execution_count": null,
   "id": "9908611a",
   "metadata": {},
   "outputs": [],
   "source": [
    "from langchain_community.llms import Ollama\n",
    "from langchain.chains import ConversationChain\n",
    "from langgraph.graph import StateGraph,END\n",
    "from typing import TypedDict,Annotated,Sequence\n",
    "from langchain_core.messages import BaseMessage,ToolMessage,SystemMessage,HumanMessage,AIMessage\n",
    "from langgraph.graph.message import add_messages\n",
    "from sever import Exploratory_analysis"
   ]
  },
  {
   "cell_type": "code",
   "execution_count": 10,
   "id": "ca89afd8",
   "metadata": {},
   "outputs": [],
   "source": [
    "class Agent_converse(TypedDict):\n",
    "    message : Annotated[Sequence[BaseMessage], add_messages]\n",
    "    pathfile : str\n",
    "\n",
    "class Agent_summerize(TypedDict):\n",
    "    content : str\n",
    "\n",
    "llm = Ollama(model=\"llama3.2\")\n",
    "\n",
    "def choice(state: Agent_converse) -> Agent_converse:\n",
    "    \"\"\"Talk with agent\"\"\"\n",
    "    messages = list(state[\"message\"])  # copy existing conversation\n",
    "\n",
    "    # Extract last user input\n",
    "    last_user_msg = messages[-1].content if messages else \"\"\n",
    "\n",
    "    # Case 1: detect file path setting\n",
    "    if last_user_msg.lower().startswith(\"set file path\"):\n",
    "        path = last_user_msg.split(\"set file path\", 1)[1].strip()\n",
    "        state[\"pathfile\"] = path\n",
    "        messages.append(AIMessage(content=f\"✅ File path stored: {path}\"))\n",
    "        state[\"message\"] = messages\n",
    "        return state\n",
    "\n",
    "    # Case 2: analysis request\n",
    "    if \"analyse\" and 'data' in last_user_msg.lower() and state[\"pathfile\"]:\n",
    "        # tool_result = Exploratory_analysis(state[\"pathfile\"])\n",
    "        # summary_prompt = f\"Summarize this exploratory analysis:\\n{tool_result}\"\n",
    "        # ai_response = llm.invoke(summary_prompt)\n",
    "        # messages.append(AIMessage(content=ai_response))\n",
    "        # state[\"message\"] = messages\n",
    "        # return state\n",
    "        return 'explore'\n",
    "\n",
    "    if 'exit' in last_user_msg.lower() and state[\"pathfile\"]:\n",
    "        return 'end'"
   ]
  },
  {
   "cell_type": "code",
   "execution_count": 38,
   "id": "8eea6cc0",
   "metadata": {},
   "outputs": [],
   "source": [
    "def sumerize(state: Agent_converse)->Agent_converse:\n",
    "    # systemprompt=SystemMessage(content=f'summerize this in a report {Exploratory_analysis(file_path=r\"C:\\Users\\ASUS\\OneDrive\\Desktop\\code\\datasets\\protein.csv\")}')\n",
    "    systemprompt='hello'\n",
    "    response = llm.invoke(systemprompt)\n",
    "    print(\"Full Response:\", )\n",
    "    if isinstance(response, AIMessage):\n",
    "        print(\"AI says:\", response.content)\n",
    "        return {\"message\": [response]}\n",
    "    else:\n",
    "        print(\"Unexpected response type:\", type(response))\n",
    "        return {\"message\": []}"
   ]
  },
  {
   "cell_type": "code",
   "execution_count": 39,
   "id": "39870ee4",
   "metadata": {},
   "outputs": [],
   "source": [
    "graph=StateGraph(Agent_converse)\n",
    "graph.add_node('start',sumerize)\n",
    "graph.set_entry_point('start')\n",
    "graph.add_edge('start',END)\n",
    "app=graph.compile()"
   ]
  },
  {
   "cell_type": "code",
   "execution_count": 40,
   "id": "3d941351",
   "metadata": {},
   "outputs": [
    {
     "ename": "ValueError",
     "evalue": "Failed to reach https://mermaid.ink/ API while trying to render your graph. Status code: 502.\n\nTo resolve this issue:\n1. Check your internet connection and try again\n2. Try with higher retry settings: `draw_mermaid_png(..., max_retries=5, retry_delay=2.0)`\n3. Use the Pyppeteer rendering method which will render your graph locally in a browser: `draw_mermaid_png(..., draw_method=MermaidDrawMethod.PYPPETEER)`",
     "output_type": "error",
     "traceback": [
      "\u001b[1;31m---------------------------------------------------------------------------\u001b[0m",
      "\u001b[1;31mValueError\u001b[0m                                Traceback (most recent call last)",
      "Cell \u001b[1;32mIn[40], line 2\u001b[0m\n\u001b[0;32m      1\u001b[0m \u001b[38;5;28;01mfrom\u001b[39;00m \u001b[38;5;21;01mIPython\u001b[39;00m\u001b[38;5;21;01m.\u001b[39;00m\u001b[38;5;21;01mdisplay\u001b[39;00m \u001b[38;5;28;01mimport\u001b[39;00m Image,display\n\u001b[1;32m----> 2\u001b[0m display(Image(app\u001b[38;5;241m.\u001b[39mget_graph()\u001b[38;5;241m.\u001b[39mdraw_mermaid_png()))\n",
      "File \u001b[1;32m~\\AppData\\Roaming\\Python\\Python312\\site-packages\\langchain_core\\runnables\\graph.py:695\u001b[0m, in \u001b[0;36mGraph.draw_mermaid_png\u001b[1;34m(self, curve_style, node_colors, wrap_label_n_words, output_file_path, draw_method, background_color, padding, max_retries, retry_delay, frontmatter_config)\u001b[0m\n\u001b[0;32m    687\u001b[0m \u001b[38;5;28;01mfrom\u001b[39;00m \u001b[38;5;21;01mlangchain_core\u001b[39;00m\u001b[38;5;21;01m.\u001b[39;00m\u001b[38;5;21;01mrunnables\u001b[39;00m\u001b[38;5;21;01m.\u001b[39;00m\u001b[38;5;21;01mgraph_mermaid\u001b[39;00m \u001b[38;5;28;01mimport\u001b[39;00m draw_mermaid_png\n\u001b[0;32m    689\u001b[0m mermaid_syntax \u001b[38;5;241m=\u001b[39m \u001b[38;5;28mself\u001b[39m\u001b[38;5;241m.\u001b[39mdraw_mermaid(\n\u001b[0;32m    690\u001b[0m     curve_style\u001b[38;5;241m=\u001b[39mcurve_style,\n\u001b[0;32m    691\u001b[0m     node_colors\u001b[38;5;241m=\u001b[39mnode_colors,\n\u001b[0;32m    692\u001b[0m     wrap_label_n_words\u001b[38;5;241m=\u001b[39mwrap_label_n_words,\n\u001b[0;32m    693\u001b[0m     frontmatter_config\u001b[38;5;241m=\u001b[39mfrontmatter_config,\n\u001b[0;32m    694\u001b[0m )\n\u001b[1;32m--> 695\u001b[0m \u001b[38;5;28;01mreturn\u001b[39;00m draw_mermaid_png(\n\u001b[0;32m    696\u001b[0m     mermaid_syntax\u001b[38;5;241m=\u001b[39mmermaid_syntax,\n\u001b[0;32m    697\u001b[0m     output_file_path\u001b[38;5;241m=\u001b[39moutput_file_path,\n\u001b[0;32m    698\u001b[0m     draw_method\u001b[38;5;241m=\u001b[39mdraw_method,\n\u001b[0;32m    699\u001b[0m     background_color\u001b[38;5;241m=\u001b[39mbackground_color,\n\u001b[0;32m    700\u001b[0m     padding\u001b[38;5;241m=\u001b[39mpadding,\n\u001b[0;32m    701\u001b[0m     max_retries\u001b[38;5;241m=\u001b[39mmax_retries,\n\u001b[0;32m    702\u001b[0m     retry_delay\u001b[38;5;241m=\u001b[39mretry_delay,\n\u001b[0;32m    703\u001b[0m )\n",
      "File \u001b[1;32m~\\AppData\\Roaming\\Python\\Python312\\site-packages\\langchain_core\\runnables\\graph_mermaid.py:294\u001b[0m, in \u001b[0;36mdraw_mermaid_png\u001b[1;34m(mermaid_syntax, output_file_path, draw_method, background_color, padding, max_retries, retry_delay)\u001b[0m\n\u001b[0;32m    288\u001b[0m     img_bytes \u001b[38;5;241m=\u001b[39m asyncio\u001b[38;5;241m.\u001b[39mrun(\n\u001b[0;32m    289\u001b[0m         _render_mermaid_using_pyppeteer(\n\u001b[0;32m    290\u001b[0m             mermaid_syntax, output_file_path, background_color, padding\n\u001b[0;32m    291\u001b[0m         )\n\u001b[0;32m    292\u001b[0m     )\n\u001b[0;32m    293\u001b[0m \u001b[38;5;28;01melif\u001b[39;00m draw_method \u001b[38;5;241m==\u001b[39m MermaidDrawMethod\u001b[38;5;241m.\u001b[39mAPI:\n\u001b[1;32m--> 294\u001b[0m     img_bytes \u001b[38;5;241m=\u001b[39m _render_mermaid_using_api(\n\u001b[0;32m    295\u001b[0m         mermaid_syntax,\n\u001b[0;32m    296\u001b[0m         output_file_path\u001b[38;5;241m=\u001b[39moutput_file_path,\n\u001b[0;32m    297\u001b[0m         background_color\u001b[38;5;241m=\u001b[39mbackground_color,\n\u001b[0;32m    298\u001b[0m         max_retries\u001b[38;5;241m=\u001b[39mmax_retries,\n\u001b[0;32m    299\u001b[0m         retry_delay\u001b[38;5;241m=\u001b[39mretry_delay,\n\u001b[0;32m    300\u001b[0m     )\n\u001b[0;32m    301\u001b[0m \u001b[38;5;28;01melse\u001b[39;00m:\n\u001b[0;32m    302\u001b[0m     supported_methods \u001b[38;5;241m=\u001b[39m \u001b[38;5;124m\"\u001b[39m\u001b[38;5;124m, \u001b[39m\u001b[38;5;124m\"\u001b[39m\u001b[38;5;241m.\u001b[39mjoin([m\u001b[38;5;241m.\u001b[39mvalue \u001b[38;5;28;01mfor\u001b[39;00m m \u001b[38;5;129;01min\u001b[39;00m MermaidDrawMethod])\n",
      "File \u001b[1;32m~\\AppData\\Roaming\\Python\\Python312\\site-packages\\langchain_core\\runnables\\graph_mermaid.py:451\u001b[0m, in \u001b[0;36m_render_mermaid_using_api\u001b[1;34m(mermaid_syntax, output_file_path, background_color, file_type, max_retries, retry_delay)\u001b[0m\n\u001b[0;32m    446\u001b[0m     \u001b[38;5;66;03m# For other status codes, fail immediately\u001b[39;00m\n\u001b[0;32m    447\u001b[0m     msg \u001b[38;5;241m=\u001b[39m (\n\u001b[0;32m    448\u001b[0m         \u001b[38;5;124m\"\u001b[39m\u001b[38;5;124mFailed to reach https://mermaid.ink/ API while trying to render \u001b[39m\u001b[38;5;124m\"\u001b[39m\n\u001b[0;32m    449\u001b[0m         \u001b[38;5;124mf\u001b[39m\u001b[38;5;124m\"\u001b[39m\u001b[38;5;124myour graph. Status code: \u001b[39m\u001b[38;5;132;01m{\u001b[39;00mresponse\u001b[38;5;241m.\u001b[39mstatus_code\u001b[38;5;132;01m}\u001b[39;00m\u001b[38;5;124m.\u001b[39m\u001b[38;5;130;01m\\n\u001b[39;00m\u001b[38;5;130;01m\\n\u001b[39;00m\u001b[38;5;124m\"\u001b[39m\n\u001b[0;32m    450\u001b[0m     ) \u001b[38;5;241m+\u001b[39m error_msg_suffix\n\u001b[1;32m--> 451\u001b[0m     \u001b[38;5;28;01mraise\u001b[39;00m \u001b[38;5;167;01mValueError\u001b[39;00m(msg)\n\u001b[0;32m    453\u001b[0m \u001b[38;5;28;01mexcept\u001b[39;00m (requests\u001b[38;5;241m.\u001b[39mRequestException, requests\u001b[38;5;241m.\u001b[39mTimeout) \u001b[38;5;28;01mas\u001b[39;00m e:\n\u001b[0;32m    454\u001b[0m     \u001b[38;5;28;01mif\u001b[39;00m attempt \u001b[38;5;241m<\u001b[39m max_retries:\n\u001b[0;32m    455\u001b[0m         \u001b[38;5;66;03m# Exponential backoff with jitter\u001b[39;00m\n",
      "\u001b[1;31mValueError\u001b[0m: Failed to reach https://mermaid.ink/ API while trying to render your graph. Status code: 502.\n\nTo resolve this issue:\n1. Check your internet connection and try again\n2. Try with higher retry settings: `draw_mermaid_png(..., max_retries=5, retry_delay=2.0)`\n3. Use the Pyppeteer rendering method which will render your graph locally in a browser: `draw_mermaid_png(..., draw_method=MermaidDrawMethod.PYPPETEER)`"
     ]
    }
   ],
   "source": [
    "from IPython.display import Image,display\n",
    "display(Image(app.get_graph().draw_mermaid_png()))"
   ]
  },
  {
   "cell_type": "code",
   "execution_count": 41,
   "id": "43312034",
   "metadata": {},
   "outputs": [
    {
     "name": "stdout",
     "output_type": "stream",
     "text": [
      "Full Response:\n",
      "Unexpected response type: <class 'str'>\n",
      "f {'message': [HumanMessage(content='', additional_kwargs={}, response_metadata={}, id='7f930290-c21a-4321-9485-9f2aef7dafbe')], 'pathfile': ''}\n"
     ]
    }
   ],
   "source": [
    "res=app.invoke({'message':'','pathfile':''})\n",
    "print('f',res)"
   ]
  }
 ],
 "metadata": {
  "kernelspec": {
   "display_name": "base",
   "language": "python",
   "name": "python3"
  },
  "language_info": {
   "codemirror_mode": {
    "name": "ipython",
    "version": 3
   },
   "file_extension": ".py",
   "mimetype": "text/x-python",
   "name": "python",
   "nbconvert_exporter": "python",
   "pygments_lexer": "ipython3",
   "version": "3.12.7"
  }
 },
 "nbformat": 4,
 "nbformat_minor": 5
}
