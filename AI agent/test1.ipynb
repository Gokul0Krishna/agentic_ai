{
 "cells": [
  {
   "cell_type": "code",
   "execution_count": 7,
   "id": "f5bdbd6b",
   "metadata": {},
   "outputs": [],
   "source": [
    "from typing import TypedDict,Annotated,Sequence\n",
    "from langchain_core.messages import BaseMessage,ToolMessage,SystemMessage,HumanMessage\n",
    "from langchain_core.tools import tool\n",
    "from langgraph.graph.message import add_messages\n",
    "from dotenv import load_dotenv\n",
    "from langchain_openai import ChatOpenAI\n",
    "from langgraph.graph import StateGraph, END\n",
    "from langgraph.prebuilt import ToolNode\n",
    "from pathlib import Path\n",
    "import os"
   ]
  },
  {
   "cell_type": "code",
   "execution_count": 17,
   "id": "800b489b",
   "metadata": {},
   "outputs": [],
   "source": [
    "dotenv_path = Path('.env')\n",
    "load_dotenv(dotenv_path=dotenv_path)\n",
    "api_key=os.getenv(\"gptAPIKEY\")\n",
    "# print(api_key)"
   ]
  },
  {
   "cell_type": "code",
   "execution_count": 9,
   "id": "b5d9b21d",
   "metadata": {},
   "outputs": [],
   "source": [
    "document_content = \"\"\n",
    "\n",
    "class Agent(TypedDict):\n",
    "    message : Annotated[Sequence[BaseMessage], add_messages]\n",
    "\n",
    "@tool\n",
    "def update(content : str) -> str:\n",
    "    \"update the document with provided content\"\n",
    "    global document_content\n",
    "    document_content = content\n",
    "    return f\"Document has been updated successfully! The current content is:\\n{document_content}\"\n",
    "\n",
    "@tool\n",
    "def save(filename: str)->str:\n",
    "    '''save the current document to a textfile and finish the process.\n",
    "        Args:\n",
    "        filename: Name for the text file.\n",
    "    '''\n",
    "    if not filename.endswith('.txt'):\n",
    "        filename=f\"{filename}.txt\" \n",
    "    \n",
    "    global document_content\n",
    "\n",
    "    try:\n",
    "        with open(filename,\"w\") as file:\n",
    "            file.write(document_content)\n",
    "        print(\"i\")\n",
    "        return \"contents has been sucessfully been saved in \"+filename\n",
    "\n",
    "    except Exception as e:\n",
    "        return \"couldn't save the contents in \"+filename\n",
    "    \n",
    "tools = [update,save]"
   ]
  },
  {
   "cell_type": "code",
   "execution_count": 10,
   "id": "31933a34",
   "metadata": {},
   "outputs": [],
   "source": [
    "llm= ChatOpenAI(model=\"z-ai/glm-4.5-air:free\",api_key=api_key,base_url=\"https://openrouter.ai/api/v1\").bind_tools(tools)"
   ]
  },
  {
   "cell_type": "code",
   "execution_count": 11,
   "id": "41d7a333",
   "metadata": {},
   "outputs": [],
   "source": [
    "def ouragent(state:Agent)->Agent:\n",
    "    system_prompt = SystemMessage(content=f\"\"\"\n",
    "    You are Drafter, a helpful writing assistant. You are going to help the user update and modify documents.\n",
    "    \n",
    "    - If the user wants to update or modify content, use the 'update' tool with the complete updated content.\n",
    "    - If the user wants to save and finish, you need to use the 'save' tool.\n",
    "    - Make sure to always show the current document state after modifications.\n",
    "    \n",
    "    The current document content is:{document_content}\n",
    "    \"\"\")\n",
    "\n",
    "    if not state['message']:\n",
    "        userinput=\"I'm ready to help you update a document. What would you like to create?\"\n",
    "        usermessage=HumanMessage(content=userinput)\n",
    "    else:\n",
    "        userinput=input(\"\\nWhat would you like to do with the document\")\n",
    "        print(f\"\\n User={userinput}\")\n",
    "        usermessage=HumanMessage(content=userinput)\n",
    "\n",
    "    all_message = [system_prompt]+ list(state[\"message\"])+[usermessage]\n",
    "\n",
    "    response= llm.invoke(all_message) \n",
    "\n",
    "    print('AI ',response.content)\n",
    "\n",
    "    return {'message': list(state['message'])+[userinput,response]}\n",
    "\n",
    "def shouldcontinue(state:Agent)->str:\n",
    "    'Determine if we should continue or end the conversation'\n",
    "    messages = state['message']\n",
    "    if not messages:\n",
    "        return \"continue\"\n",
    "    \n",
    "    for i in reversed(messages):\n",
    "        if (isinstance(messages,ToolMessage) and \"saved\" in messages.content.lower() and 'document' in messages.content.lower()):\n",
    "            return \"end\" \n",
    "    \n",
    "    return \"continue\""
   ]
  },
  {
   "cell_type": "code",
   "execution_count": 12,
   "id": "1d321e47",
   "metadata": {},
   "outputs": [],
   "source": [
    "graph = StateGraph(Agent)\n",
    "graph.add_node(\"agent\",ouragent)\n",
    "graph.add_node(\"tools\",ToolNode(tools=tools))\n",
    "graph.set_entry_point(\"agent\")\n",
    "graph.add_edge(\"agent\",\"tools\")\n",
    "graph.add_conditional_edges(\n",
    "    \"tools\",\n",
    "    shouldcontinue,\n",
    "    {\n",
    "        \"continue\":\"agent\",\n",
    "        \"end\":END,\n",
    "    }\n",
    ")\n",
    "app=graph.compile()"
   ]
  },
  {
   "cell_type": "code",
   "execution_count": 16,
   "id": "8525ddac",
   "metadata": {},
   "outputs": [],
   "source": [
    "state={'message':[]}\n",
    "# for i in app.stream(state,stream_mode=\"values\"):\n",
    "    # if  'message' in i:\n",
    "        # print(i['message'])"
   ]
  }
 ],
 "metadata": {
  "kernelspec": {
   "display_name": "base",
   "language": "python",
   "name": "python3"
  },
  "language_info": {
   "codemirror_mode": {
    "name": "ipython",
    "version": 3
   },
   "file_extension": ".py",
   "mimetype": "text/x-python",
   "name": "python",
   "nbconvert_exporter": "python",
   "pygments_lexer": "ipython3",
   "version": "3.12.7"
  }
 },
 "nbformat": 4,
 "nbformat_minor": 5
}
