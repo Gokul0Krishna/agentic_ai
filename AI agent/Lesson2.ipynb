{
 "cells": [
  {
   "cell_type": "code",
   "execution_count": 5,
   "id": "e0ae9e1b",
   "metadata": {},
   "outputs": [],
   "source": [
    "from typing import TypedDict,List,Union\n",
    "from langchain_core.messages import HumanMessage,AIMessage\n",
    "from langgraph.graph import START,END,StateGraph\n",
    "from dotenv import load_dotenv\n",
    "from langchain_openai import ChatOpenAI\n",
    "from pathlib import Path\n",
    "import os"
   ]
  },
  {
   "cell_type": "code",
   "execution_count": 4,
   "id": "05289d0b",
   "metadata": {},
   "outputs": [],
   "source": [
    "dotenv_path = Path('.env')\n",
    "load_dotenv(dotenv_path=dotenv_path)\n",
    "api_key=os.getenv(\"gptAPIKEY\")\n",
    "# print(api_key)"
   ]
  },
  {
   "cell_type": "code",
   "execution_count": 6,
   "id": "4756c9fb",
   "metadata": {},
   "outputs": [],
   "source": [
    "class Agent(TypedDict):\n",
    "    message : List[Union[HumanMessage,AIMessage]]"
   ]
  },
  {
   "cell_type": "code",
   "execution_count": 7,
   "id": "7e161795",
   "metadata": {},
   "outputs": [],
   "source": [
    "llm= ChatOpenAI(model=\"openai/gpt-oss-20b:free\",api_key=api_key,base_url=\"https://openrouter.ai/api/v1\")"
   ]
  },
  {
   "cell_type": "code",
   "execution_count": 11,
   "id": "1497e8f7",
   "metadata": {},
   "outputs": [],
   "source": [
    "def process(state:Agent)->Agent:\n",
    "    \"calls llm\"\n",
    "    response=llm.invoke(state['message'])\n",
    "    print(\"AI \",response.content)\n",
    "    state['message'].append(AIMessage(content=response.content))\n",
    "    return state"
   ]
  },
  {
   "cell_type": "code",
   "execution_count": 12,
   "id": "7286c4c7",
   "metadata": {},
   "outputs": [],
   "source": [
    "graph=StateGraph(Agent)\n",
    "graph.add_node(\"process\",process)\n",
    "graph.add_edge(START,\"process\")\n",
    "graph.add_edge(\"process\",END)\n",
    "agent=graph.compile()"
   ]
  },
  {
   "cell_type": "code",
   "execution_count": null,
   "id": "79e89088",
   "metadata": {},
   "outputs": [
    {
     "name": "stdout",
     "output_type": "stream",
     "text": [
      "AI  Hello! 👋 How can I help you today?\n",
      "AI  Nice to meet you, Hero! 🌟 How can I help you today?\n",
      "AI  You’ve introduced yourself as **Hero**. If you’d like to add anything else or change it, just let me know!\n"
     ]
    }
   ],
   "source": [
    "conversationhistory=[]\n",
    "userinput= input(\"Enter: \")\n",
    "\n",
    "while userinput !=\"exit\":\n",
    "    conversationhistory.append(HumanMessage(content=userinput))\n",
    "    result= agent.invoke({\"message\":conversationhistory})\n",
    "    conversationhistory=result[\"message\"]\n",
    "    userinput= input(\"Enter: \")\n",
    "\n",
    "with open(\"log.txt\",\"w\") as file:\n",
    "    for i in conversationhistory:\n",
    "        if isinstance(i,HumanMessage):\n",
    "            file.write(\"you \",i)\n",
    "        elif isinstance(i,AIMessage):\n",
    "            file.write(\"ai \",i)"
   ]
  }
 ],
 "metadata": {
  "kernelspec": {
   "display_name": "base",
   "language": "python",
   "name": "python3"
  },
  "language_info": {
   "codemirror_mode": {
    "name": "ipython",
    "version": 3
   },
   "file_extension": ".py",
   "mimetype": "text/x-python",
   "name": "python",
   "nbconvert_exporter": "python",
   "pygments_lexer": "ipython3",
   "version": "3.12.7"
  }
 },
 "nbformat": 4,
 "nbformat_minor": 5
}
