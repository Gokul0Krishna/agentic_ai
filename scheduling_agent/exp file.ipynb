{
 "cells": [
  {
   "cell_type": "code",
   "execution_count": 2,
   "id": "61abbd27",
   "metadata": {},
   "outputs": [],
   "source": [
    "from typing import TypedDict,Annotated,Sequence\n",
    "from langchain_core.messages import BaseMessage,ToolMessage,SystemMessage,HumanMessage,AIMessage\n",
    "from langchain_core.tools import tool\n",
    "from langgraph.graph.message import add_messages\n",
    "from dotenv import load_dotenv\n",
    "from langchain_openai import ChatOpenAI\n",
    "from langgraph.graph import StateGraph, END\n",
    "from langgraph.prebuilt import ToolNode\n",
    "from pathlib import Path\n",
    "import os"
   ]
  },
  {
   "cell_type": "code",
   "execution_count": 6,
   "id": "b40bc794",
   "metadata": {},
   "outputs": [
    {
     "data": {
      "text/plain": [
       "AIMessage(content='json\\n{\\n    \"event\": \"meeting\",\\n    \"date-time\": \"12/12/2023-00:00\",\\n    \"priority\": \"medium\"\\n}\\n', additional_kwargs={'refusal': None}, response_metadata={'token_usage': {'completion_tokens': 40, 'prompt_tokens': 312, 'total_tokens': 352, 'completion_tokens_details': None, 'prompt_tokens_details': None}, 'model_name': 'deepseek/deepseek-chat-v3-0324:free', 'system_fingerprint': None, 'id': 'gen-1754885770-3jAgZCNBcFedDWiGlh0S', 'service_tier': None, 'finish_reason': 'stop', 'logprobs': None}, id='run--68d23bbf-e8e7-4ec7-8cfa-50041d67c4d3-0', usage_metadata={'input_tokens': 312, 'output_tokens': 40, 'total_tokens': 352, 'input_token_details': {}, 'output_token_details': {}})"
      ]
     },
     "execution_count": 6,
     "metadata": {},
     "output_type": "execute_result"
    }
   ],
   "source": [
    "res=[HumanMessage(content='', additional_kwargs={}, response_metadata={}, id='42f63c1f-3f92-46eb-a44d-215734150cc3'), AIMessage(content='json\\n{\\n    \"event\": \"meeting\",\\n    \"date-time\": \"12/12/2023-00:00\",\\n    \"priority\": \"medium\"\\n}\\n', additional_kwargs={'refusal': None}, response_metadata={'token_usage': {'completion_tokens': 40, 'prompt_tokens': 312, 'total_tokens': 352, 'completion_tokens_details': None, 'prompt_tokens_details': None}, 'model_name': 'deepseek/deepseek-chat-v3-0324:free', 'system_fingerprint': None, 'id': 'gen-1754885770-3jAgZCNBcFedDWiGlh0S', 'service_tier': None, 'finish_reason': 'stop', 'logprobs': None}, id='run--68d23bbf-e8e7-4ec7-8cfa-50041d67c4d3-0', usage_metadata={'input_tokens': 312, 'output_tokens': 40, 'total_tokens': 352, 'input_token_details': {}, 'output_token_details': {}})]\n",
    "res[1]"
   ]
  },
  {
   "cell_type": "code",
   "execution_count": 7,
   "id": "a2ffa9a5",
   "metadata": {},
   "outputs": [
    {
     "name": "stdout",
     "output_type": "stream",
     "text": [
      "{\"event\":\"meeting\",\"date-time\":\"12/12/2023-00:00\",\"priority\":\"medium\"}\n"
     ]
    }
   ],
   "source": [
    "val=res[1].content\n",
    "val=val.replace(' ','')\n",
    "val=val.replace('\\n','')\n",
    "val=val.replace('n\\'s',\"n \")\n",
    "val=val.replace(\"json\",\"\")\n",
    "print(val)\n",
    "# val=json.loads(val)\n",
    "# val"
   ]
  }
 ],
 "metadata": {
  "kernelspec": {
   "display_name": "base",
   "language": "python",
   "name": "python3"
  },
  "language_info": {
   "codemirror_mode": {
    "name": "ipython",
    "version": 3
   },
   "file_extension": ".py",
   "mimetype": "text/x-python",
   "name": "python",
   "nbconvert_exporter": "python",
   "pygments_lexer": "ipython3",
   "version": "3.12.7"
  }
 },
 "nbformat": 4,
 "nbformat_minor": 5
}
