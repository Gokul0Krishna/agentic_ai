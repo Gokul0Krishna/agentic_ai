{
 "cells": [
  {
   "cell_type": "code",
   "execution_count": 30,
   "id": "c1c5259b",
   "metadata": {},
   "outputs": [],
   "source": [
    "from typing import TypedDict,Annotated,Sequence\n",
    "from langchain_core.messages import BaseMessage,ToolMessage,SystemMessage,HumanMessage\n",
    "from langchain_core.tools import tool\n",
    "from langgraph.graph.message import add_messages\n",
    "from dotenv import load_dotenv\n",
    "from langchain_openai import ChatOpenAI\n",
    "from langgraph.graph import StateGraph, END\n",
    "from langgraph.prebuilt import ToolNode\n",
    "from pathlib import Path\n",
    "import os"
   ]
  },
  {
   "cell_type": "code",
   "execution_count": 62,
   "id": "d3d72577",
   "metadata": {},
   "outputs": [],
   "source": [
    "dotenv_path = Path('.env')\n",
    "load_dotenv(dotenv_path=dotenv_path)\n",
    "# api_key=os.getenv(\"deepseekkey\")\n",
    "api_key=os.getenv(\"gptAPIKEY\")\n",
    "# print(api_key)"
   ]
  },
  {
   "cell_type": "code",
   "execution_count": 39,
   "id": "96290c6e",
   "metadata": {},
   "outputs": [],
   "source": [
    "class Agent(TypedDict):\n",
    "    message : Annotated[Sequence[BaseMessage], add_messages]"
   ]
  },
  {
   "cell_type": "code",
   "execution_count": 64,
   "id": "8abef024",
   "metadata": {},
   "outputs": [
    {
     "data": {
      "text/plain": [
       "''"
      ]
     },
     "execution_count": 64,
     "metadata": {},
     "output_type": "execute_result"
    }
   ],
   "source": [
    "filecontents=\"\"\n",
    "with open(\"events.txt\",'a+') as file:\n",
    "    file.seek(0)\n",
    "    filecontents=(file.read())\n",
    "filecontents"
   ]
  },
  {
   "cell_type": "code",
   "execution_count": 63,
   "id": "2083a61b",
   "metadata": {},
   "outputs": [],
   "source": [
    "@tool\n",
    "def saveevent(content:str)->str:\n",
    "    \"\"\"save the contents to a text file \"\"\"\n",
    "    with open(\"events.txt\",'a+') as file:\n",
    "        file.write(content)\n",
    "    return \"contents has been sucessfully been saved in events.txt\"\n",
    "@tool\n",
    "def savecontent(content:str)->str:\n",
    "    \"\"\"save the contents to a text file \"\"\"\n",
    "    with open(\"contents.txt\",'w+') as file:\n",
    "        file.write(content)\n",
    "    return \"contents has been sucessfully been saved in events.txt\"\n",
    "\n",
    "@tool\n",
    "def date():\n",
    "    \"returns today's date\"\n",
    "    from datetime import date\n",
    "    return date.today()\n",
    "\n",
    "tools = [saveevent,savecontent,date] "
   ]
  },
  {
   "cell_type": "code",
   "execution_count": null,
   "id": "fb9d8b51",
   "metadata": {},
   "outputs": [],
   "source": [
    "model= ChatOpenAI(model=\"z-ai/glm-4.5-air:free\",api_key=api_key,base_url=\"https://openrouter.ai/api/v1\").bind_tools(tools)"
   ]
  },
  {
   "cell_type": "code",
   "execution_count": 65,
   "id": "8ba1ee16",
   "metadata": {},
   "outputs": [],
   "source": [
    "def process(state:Agent)->Agent:\n",
    "    system_prompt = SystemMessage(content=f\"\"\"\n",
    "    You are a scheduling assistant who process the information i give you into event : string, date-time :datetime(D/M/Y-H:M), priority : (high/medium/low) \n",
    "    - Once you process the information, you need to use the 'save' tool to save the processed information.\n",
    "    - You can use the 'date' tool to get today's date\n",
    "    the contents of this converastion are {filecontents}    \n",
    "    \"\"\")\n",
    "    userinput=HumanMessage(content=input(\"enter the your task\"))\n",
    "    finalmessage=[system_prompt]+[userinput]\n",
    "    print(finalmessage)\n",
    "    response=model.invoke(input=finalmessage)\n",
    "    print(response.content)"
   ]
  },
  {
   "cell_type": "code",
   "execution_count": 66,
   "id": "aba544ec",
   "metadata": {},
   "outputs": [],
   "source": [
    "graph=StateGraph(Agent)\n",
    "graph.add_node(\"user\",process)\n",
    "graph.set_entry_point(\"user\")\n",
    "graph.add_edge(\"user\",END)\n",
    "app=graph.compile()"
   ]
  },
  {
   "cell_type": "code",
   "execution_count": 67,
   "id": "74aa1206",
   "metadata": {},
   "outputs": [
    {
     "name": "stdout",
     "output_type": "stream",
     "text": [
      "[SystemMessage(content=\"\\n    You are a scheduling assistant who process the information i give you into event : string, date-time :datetime(D/M/Y-H:M), priority : (high/medium/low) \\n    - Once you process the information, you need to use the 'save' tool to save the processed information.\\n    - You can use the 'date' tool to get today's date\\n    the contents of this converastion are     \\n    \", additional_kwargs={}, response_metadata={}), HumanMessage(content=\"son's birthday tomorrow \", additional_kwargs={}, response_metadata={})]\n",
      "\n"
     ]
    },
    {
     "data": {
      "text/plain": [
       "{'message': [HumanMessage(content='', additional_kwargs={}, response_metadata={}, id='d1a424e6-880f-4c92-8864-ced7eda6a71d')]}"
      ]
     },
     "execution_count": 67,
     "metadata": {},
     "output_type": "execute_result"
    }
   ],
   "source": [
    "# son's birthday tomorrow  \n",
    "app.invoke({'message':''})"
   ]
  },
  {
   "cell_type": "code",
   "execution_count": 68,
   "id": "2c83d12a",
   "metadata": {},
   "outputs": [],
   "source": [
    "# from IPython.display import Image,display\n",
    "# display(Image(app.get_graph().draw_mermaid_png()))"
   ]
  }
 ],
 "metadata": {
  "kernelspec": {
   "display_name": "base",
   "language": "python",
   "name": "python3"
  },
  "language_info": {
   "codemirror_mode": {
    "name": "ipython",
    "version": 3
   },
   "file_extension": ".py",
   "mimetype": "text/x-python",
   "name": "python",
   "nbconvert_exporter": "python",
   "pygments_lexer": "ipython3",
   "version": "3.12.7"
  }
 },
 "nbformat": 4,
 "nbformat_minor": 5
}
