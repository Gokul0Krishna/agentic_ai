{
 "cells": [
  {
   "cell_type": "code",
   "execution_count": 2,
   "id": "c1c5259b",
   "metadata": {},
   "outputs": [],
   "source": [
    "from typing import TypedDict,Annotated,Sequence\n",
    "from langchain_core.messages import BaseMessage,ToolMessage,SystemMessage,HumanMessage,AIMessage\n",
    "from langchain_core.tools import tool\n",
    "from langgraph.graph.message import add_messages\n",
    "from dotenv import load_dotenv\n",
    "from langchain_openai import ChatOpenAI\n",
    "from langgraph.graph import StateGraph, END\n",
    "from langgraph.prebuilt import ToolNode\n",
    "from pathlib import Path\n",
    "import os\n",
    "import json"
   ]
  },
  {
   "cell_type": "code",
   "execution_count": 3,
   "id": "d3d72577",
   "metadata": {},
   "outputs": [],
   "source": [
    "dotenv_path = Path('.env')\n",
    "load_dotenv(dotenv_path=dotenv_path)\n",
    "api_key=os.getenv(\"deepseekkey\")\n",
    "# api_key=os.getenv(\"gptAPIKEY\")\n",
    "# print(api_key)"
   ]
  },
  {
   "cell_type": "code",
   "execution_count": 4,
   "id": "96290c6e",
   "metadata": {},
   "outputs": [],
   "source": [
    "class Agent(TypedDict):\n",
    "    message : Annotated[Sequence[BaseMessage], add_messages]\n",
    "    parsed : json"
   ]
  },
  {
   "cell_type": "code",
   "execution_count": null,
   "id": "8abef024",
   "metadata": {},
   "outputs": [
    {
     "data": {
      "text/plain": [
       "'\\n'"
      ]
     },
     "execution_count": 5,
     "metadata": {},
     "output_type": "execute_result"
    }
   ],
   "source": [
    "# filecontents=\"\"\n",
    "# with open(\"events.txt\",'a+') as file:\n",
    "#     file.seek(0)\n",
    "#     filecontents=(file.read())\n",
    "# filecontents"
   ]
  },
  {
   "cell_type": "code",
   "execution_count": 6,
   "id": "2083a61b",
   "metadata": {},
   "outputs": [],
   "source": [
    "@tool\n",
    "def saveevent(content:str)->str:\n",
    "    \"\"\"save the contents to a text file \"\"\"\n",
    "    with open(\"events.txt\",'a+') as file:\n",
    "        file.write(content)\n",
    "    return \"contents has been sucessfully been saved in events.txt\"\n",
    "@tool\n",
    "def savecontent(content:str)->str:\n",
    "    \"\"\"save the contents to a text file \"\"\"\n",
    "    with open(\"contents.txt\",'w+') as file:\n",
    "        file.write(content)\n",
    "    return \"contents has been sucessfully been saved in events.txt\"\n",
    "\n",
    "@tool\n",
    "def date():\n",
    "    \"returns today's date\"\n",
    "    from datetime import date\n",
    "    return date.today()\n",
    "\n",
    "tools = [saveevent,savecontent,date] "
   ]
  },
  {
   "cell_type": "code",
   "execution_count": 7,
   "id": "fb9d8b51",
   "metadata": {},
   "outputs": [],
   "source": [
    "# model= ChatOpenAI(model=\"z-ai/glm-4.5-air:free\",api_key=api_key,base_url=\"https://openrouter.ai/api/v1\").bind_tools(tools)\n",
    "\n",
    "model= ChatOpenAI(model=\"deepseek/deepseek-chat-v3-0324:free\",api_key=api_key,base_url=\"https://openrouter.ai/api/v1\").bind_tools(tools=tools)"
   ]
  },
  {
   "cell_type": "code",
   "execution_count": 18,
   "id": "8ba1ee16",
   "metadata": {},
   "outputs": [],
   "source": [
    "def process(state: Agent) -> Agent:\n",
    "    'enter the task/date'\n",
    "    system_prompt = SystemMessage(content=f\"\"\"\n",
    "    You are a scheduling assistant.\n",
    "    You can use the 'date' tool for reference                               \n",
    "    Output ONLY in JSON format:\n",
    "    {{\n",
    "        \"event\": \"...\",\n",
    "        \"date-time\": \"D/M-H:M\",\n",
    "        \"priority\": \"high|medium|low\"\n",
    "    }}\n",
    "    the contents of this conversation are {filecontents}    \n",
    "    \"\"\")\n",
    "    \n",
    "    user_input = state['message']\n",
    "    final_messages = [system_prompt, user_input]\n",
    "    \n",
    "    response = model.invoke(final_messages)  # no `input=...`\n",
    "    \n",
    "    print(\"Full Response:\", )\n",
    "    if isinstance(response, AIMessage):\n",
    "        print(\"AI says:\", response.content)\n",
    "        return {\"message\": [response]}\n",
    "    else:\n",
    "        print(\"Unexpected response type:\", type(response))\n",
    "        return {\"message\": []}\n",
    "\n",
    "    \n",
    "def printmessage(state:Agent)->Agent:\n",
    "    'converts to json'\n",
    "    val=state['message']\n",
    "    val=val[1].content\n",
    "    val=val.replace(' ','')\n",
    "    val=val.replace('\\n','')\n",
    "    val=val.replace('n\\'s',\"n \")\n",
    "    val=val.replace(\"json\",\"\")\n",
    "    state['parsed']=json.loads(val)\n",
    "    print(\"k\",state['parsed'])\n",
    "    return state\n",
    "\n",
    "def savecontent(state:Agent)->Agent:\n",
    "    'saves the content'\n",
    "    val=state['parsed']\n",
    "    with open(\"events.txt\",'a+') as file:\n",
    "        flag=0\n",
    "        for i in file:\n",
    "            i=json.loads(i.strip())\n",
    "            if i['date-time']==val['date-time'] and i['event']==val['event']:\n",
    "                print(\"fuck\")\n",
    "                flag=1\n",
    "                break\n",
    "        if flag==0:\n",
    "                file.seek(0,os.SEEK_END)\n",
    "                file.write(json.dumps(val) + \"\\n\")\n",
    "    state['message']=[]\n",
    "    state['parsed']={}\n",
    "    return state\n",
    "\n",
    "def shouldcontinue(state:Agent):\n",
    "    user_input=\"\"\n",
    "    'Determine if we should continue or end the conversation'\n",
    "    user_input = HumanMessage(content=input(\"Enter your task: \"))\n",
    "    print(user_input)\n",
    "    state['message']=user_input\n",
    "    if user_input.content == \"end\":\n",
    "        return \"end\"\n",
    "    else:    \n",
    "        return \"continue\""
   ]
  },
  {
   "cell_type": "code",
   "execution_count": 19,
   "id": "aba544ec",
   "metadata": {},
   "outputs": [],
   "source": [
    "graph=StateGraph(Agent)\n",
    "graph.add_node(\"user\",process)\n",
    "graph.add_node(\"printmessage\",printmessage)\n",
    "graph.add_node(\"save\",savecontent)\n",
    "graph.add_node(\"dec\",lambda state:state)\n",
    "graph.set_entry_point(\"dec\")\n",
    "graph.add_conditional_edges(\"dec\",\n",
    "    shouldcontinue,\n",
    "    {\n",
    "        \"continue\":\"user\",\n",
    "        \"end\":END,\n",
    "    }                            \n",
    ")\n",
    "graph.add_edge(\"user\",\"printmessage\")\n",
    "graph.add_edge(\"printmessage\",'save')\n",
    "graph.add_edge(\"save\",\"dec\")\n",
    "app=graph.compile()"
   ]
  },
  {
   "cell_type": "code",
   "execution_count": 20,
   "id": "89e443f9",
   "metadata": {},
   "outputs": [
    {
     "data": {
      "image/png": "[encoded data removed]",
      "text/plain": [
       "<IPython.core.display.Image object>"
      ]
     },
     "metadata": {},
     "output_type": "display_data"
    }
   ],
   "source": [
    "from IPython.display import Image,display\n",
    "display(Image(app.get_graph().draw_mermaid_png()))"
   ]
  },
  {
   "cell_type": "code",
   "execution_count": 21,
   "id": "74aa1206",
   "metadata": {},
   "outputs": [
    {
     "name": "stdout",
     "output_type": "stream",
     "text": [
      "content='end' additional_kwargs={} response_metadata={}\n",
      "f {'message': [HumanMessage(content='', additional_kwargs={}, response_metadata={}, id='0469fa94-5e3d-4e7a-a901-a2050666605c')], 'parsed': ''}\n"
     ]
    }
   ],
   "source": [
    "res=app.invoke({'message':'','parsed':''})\n",
    "print('f',res)"
   ]
  },
  {
   "cell_type": "code",
   "execution_count": 17,
   "id": "a30f572f",
   "metadata": {},
   "outputs": [
    {
     "name": "stdout",
     "output_type": "stream",
     "text": [
      "content='hi' additional_kwargs={} response_metadata={}\n"
     ]
    }
   ],
   "source": [
    "a=HumanMessage(content=input(\"Enter your task: \"))\n",
    "print(a)"
   ]
  }
 ],
 "metadata": {
  "kernelspec": {
   "display_name": "base",
   "language": "python",
   "name": "python3"
  },
  "language_info": {
   "codemirror_mode": {
    "name": "ipython",
    "version": 3
   },
   "file_extension": ".py",
   "mimetype": "text/x-python",
   "name": "python",
   "nbconvert_exporter": "python",
   "pygments_lexer": "ipython3",
   "version": "3.12.7"
  }
 },
 "nbformat": 4,
 "nbformat_minor": 5
}
