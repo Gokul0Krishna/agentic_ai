{
 "cells": [
  {
   "cell_type": "code",
   "execution_count": 1,
   "id": "c1c5259b",
   "metadata": {},
   "outputs": [],
   "source": [
    "from typing import TypedDict,Annotated,Sequence\n",
    "from langchain_core.messages import BaseMessage,ToolMessage,SystemMessage,HumanMessage,AIMessage\n",
    "from langchain_core.tools import tool\n",
    "from langgraph.graph.message import add_messages\n",
    "from dotenv import load_dotenv\n",
    "from langchain_openai import ChatOpenAI\n",
    "from langgraph.graph import StateGraph, END\n",
    "from langgraph.prebuilt import ToolNode\n",
    "from pathlib import Path\n",
    "import os\n",
    "import json"
   ]
  },
  {
   "cell_type": "code",
   "execution_count": 2,
   "id": "d3d72577",
   "metadata": {},
   "outputs": [],
   "source": [
    "dotenv_path = Path('.env')\n",
    "load_dotenv(dotenv_path=dotenv_path)\n",
    "api_key=os.getenv(\"deepseekkey\")\n",
    "# api_key=os.getenv(\"gptAPIKEY\")\n",
    "# print(api_key)"
   ]
  },
  {
   "cell_type": "code",
   "execution_count": 70,
   "id": "96290c6e",
   "metadata": {},
   "outputs": [],
   "source": [
    "class Agent(TypedDict):\n",
    "    message : Annotated[Sequence[BaseMessage], add_messages]\n",
    "    parsed : json"
   ]
  },
  {
   "cell_type": "code",
   "execution_count": 68,
   "id": "8abef024",
   "metadata": {},
   "outputs": [
    {
     "data": {
      "text/plain": [
       "''"
      ]
     },
     "execution_count": 68,
     "metadata": {},
     "output_type": "execute_result"
    }
   ],
   "source": [
    "filecontents=\"\"\n",
    "with open(\"events.txt\",'a+') as file:\n",
    "    file.seek(0)\n",
    "    filecontents=(file.read())\n",
    "filecontents"
   ]
  },
  {
   "cell_type": "code",
   "execution_count": null,
   "id": "2083a61b",
   "metadata": {},
   "outputs": [],
   "source": []
  },
  {
   "cell_type": "code",
   "execution_count": null,
   "id": "fb9d8b51",
   "metadata": {},
   "outputs": [],
   "source": [
    "# model= ChatOpenAI(model=\"z-ai/glm-4.5-air:free\",api_key=api_key,base_url=\"https://openrouter.ai/api/v1\").bind_tools(tools)\n",
    "\n",
    "model= ChatOpenAI(model=\"deepseek/deepseek-chat-v3-0324:free\",api_key=api_key,base_url=\"https://openrouter.ai/api/v1\")"
   ]
  },
  {
   "cell_type": "code",
   "execution_count": 92,
   "id": "8ba1ee16",
   "metadata": {},
   "outputs": [],
   "source": [
    "def process(state: Agent) -> Agent:\n",
    "    system_prompt = SystemMessage(content=f\"\"\"\n",
    "    You are a scheduling assistant. \n",
    "    Output ONLY in JSON format:\n",
    "    {{\n",
    "        \"event\": \"...\",\n",
    "        \"date-time\": \"D/M-H:M\",\n",
    "        \"priority\": \"high|medium|low\"\n",
    "    }}\n",
    "    the contents of this conversation are {filecontents}    \n",
    "    \"\"\")\n",
    "    \n",
    "    user_input = HumanMessage(content=input(\"Enter your task: \"))\n",
    "    final_messages = [system_prompt, user_input]\n",
    "    \n",
    "    response = model.invoke(final_messages)  # no `input=...`\n",
    "    \n",
    "    print(\"Full Response:\", )\n",
    "    if isinstance(response, AIMessage):\n",
    "        print(\"AI says:\", response.content)\n",
    "        return {\"message\": [response]}\n",
    "    else:\n",
    "        print(\"Unexpected response type:\", type(response))\n",
    "        return {\"message\": []}\n",
    "\n",
    "    \n",
    "def printmessage(state:Agent)->Agent:\n",
    "    val=state['message']\n",
    "    val=val[1].content\n",
    "    val=val.replace(' ','')\n",
    "    val=val.replace('\\n','')\n",
    "    val=val.replace('n\\'s',\"n \")\n",
    "    val=val.replace(\"json\",\"\")\n",
    "    state['parsed']=json.loads(val)\n",
    "    print(\"k\",state['parsed'])\n",
    "    return state\n",
    "\n",
    "def savecontent(state:Agent)->Agent:\n",
    "    val=state['parsed']\n",
    "    print(\"t\",val)\n",
    "    val={'event': 'meeting', 'date-time': '12/12/2023-00:00', 'priority': 'medium'}\n",
    "    with open(\"events.txt\",'a+') as file:\n",
    "        file.write(f\"{val}\\n\")\n",
    "    state['message']=[]\n",
    "    state['parsed']={}\n",
    "    return state"
   ]
  },
  {
   "cell_type": "code",
   "execution_count": 93,
   "id": "aba544ec",
   "metadata": {},
   "outputs": [],
   "source": [
    "graph=StateGraph(Agent)\n",
    "graph.add_node(\"user\",process)\n",
    "graph.add_node(\"printmessage\",printmessage)\n",
    "graph.add_node(\"save\",savecontent)\n",
    "graph.set_entry_point(\"user\")\n",
    "graph.add_edge(\"user\",\"printmessage\")\n",
    "graph.add_edge(\"printmessage\",'save')\n",
    "graph.add_edge('save',END)\n",
    "app=graph.compile()"
   ]
  },
  {
   "cell_type": "code",
   "execution_count": 94,
   "id": "74aa1206",
   "metadata": {},
   "outputs": [
    {
     "name": "stdout",
     "output_type": "stream",
     "text": [
      "Full Response:\n",
      "AI says: json\n",
      "{\n",
      "    \"event\": \"meeting\",\n",
      "    \"date-time\": \"12/12\",\n",
      "    \"priority\": \"medium\"\n",
      "}\n",
      "\n",
      "k {'event': 'meeting', 'date-time': '12/12', 'priority': 'medium'}\n",
      "t {'event': 'meeting', 'date-time': '12/12', 'priority': 'medium'}\n",
      "f {'message': [HumanMessage(content='', additional_kwargs={}, response_metadata={}, id='924adb29-081d-4999-9665-981263b4c9a6'), AIMessage(content='json\\n{\\n    \"event\": \"meeting\",\\n    \"date-time\": \"12/12\",\\n    \"priority\": \"medium\"\\n}\\n', additional_kwargs={'refusal': None}, response_metadata={'token_usage': {'completion_tokens': 32, 'prompt_tokens': 311, 'total_tokens': 343, 'completion_tokens_details': None, 'prompt_tokens_details': None}, 'model_name': 'deepseek/deepseek-chat-v3-0324:free', 'system_fingerprint': None, 'id': 'gen-1754890849-OgrPBICnY24fye5JXB2m', 'service_tier': None, 'finish_reason': 'stop', 'logprobs': None}, id='run--7add7c01-64bd-4e6c-a28d-f940dba25d85-0', usage_metadata={'input_tokens': 311, 'output_tokens': 32, 'total_tokens': 343, 'input_token_details': {}, 'output_token_details': {}})], 'parsed': {}}\n"
     ]
    }
   ],
   "source": [
    "# son's birthday tomorrow  \n",
    "res=app.invoke({'message':'','parsed':''})\n",
    "print('f',res)"
   ]
  },
  {
   "cell_type": "code",
   "execution_count": 89,
   "id": "2c83d12a",
   "metadata": {},
   "outputs": [
    {
     "data": {
      "image/png": "[encoded data removed]",
      "text/plain": [
       "<IPython.core.display.Image object>"
      ]
     },
     "metadata": {},
     "output_type": "display_data"
    }
   ],
   "source": [
    "from IPython.display import Image,display\n",
    "display(Image(app.get_graph().draw_mermaid_png()))"
   ]
  }
 ],
 "metadata": {
  "kernelspec": {
   "display_name": "base",
   "language": "python",
   "name": "python3"
  },
  "language_info": {
   "codemirror_mode": {
    "name": "ipython",
    "version": 3
   },
   "file_extension": ".py",
   "mimetype": "text/x-python",
   "name": "python",
   "nbconvert_exporter": "python",
   "pygments_lexer": "ipython3",
   "version": "3.12.7"
  }
 },
 "nbformat": 4,
 "nbformat_minor": 5
}
