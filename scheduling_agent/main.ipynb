{
 "cells": [
  {
   "cell_type": "code",
   "execution_count": 75,
   "id": "c1c5259b",
   "metadata": {},
   "outputs": [],
   "source": [
    "from typing import TypedDict,Annotated,Sequence\n",
    "from langchain_core.messages import BaseMessage,ToolMessage,SystemMessage,HumanMessage,AIMessage\n",
    "from langchain_core.tools import tool\n",
    "from langgraph.graph.message import add_messages\n",
    "from dotenv import load_dotenv\n",
    "from langchain_openai import ChatOpenAI\n",
    "from langgraph.graph import StateGraph, END\n",
    "from langgraph.prebuilt import ToolNode\n",
    "from pathlib import Path\n",
    "import os"
   ]
  },
  {
   "cell_type": "code",
   "execution_count": 84,
   "id": "d3d72577",
   "metadata": {},
   "outputs": [],
   "source": [
    "dotenv_path = Path('.env')\n",
    "load_dotenv(dotenv_path=dotenv_path)\n",
    "api_key=os.getenv(\"deepseekkey\")\n",
    "# api_key=os.getenv(\"gptAPIKEY\")\n",
    "# print(api_key)"
   ]
  },
  {
   "cell_type": "code",
   "execution_count": 85,
   "id": "96290c6e",
   "metadata": {},
   "outputs": [],
   "source": [
    "class Agent(TypedDict):\n",
    "    message : Annotated[Sequence[BaseMessage], add_messages]"
   ]
  },
  {
   "cell_type": "code",
   "execution_count": 86,
   "id": "8abef024",
   "metadata": {},
   "outputs": [
    {
     "data": {
      "text/plain": [
       "''"
      ]
     },
     "execution_count": 86,
     "metadata": {},
     "output_type": "execute_result"
    }
   ],
   "source": [
    "filecontents=\"\"\n",
    "with open(\"events.txt\",'a+') as file:\n",
    "    file.seek(0)\n",
    "    filecontents=(file.read())\n",
    "filecontents"
   ]
  },
  {
   "cell_type": "code",
   "execution_count": 87,
   "id": "2083a61b",
   "metadata": {},
   "outputs": [],
   "source": [
    "@tool\n",
    "def saveevent(content:str)->str:\n",
    "    \"\"\"save the contents to a text file \"\"\"\n",
    "    with open(\"events.txt\",'a+') as file:\n",
    "        file.write(content)\n",
    "    return \"contents has been sucessfully been saved in events.txt\"\n",
    "@tool\n",
    "def savecontent(content:str)->str:\n",
    "    \"\"\"save the contents to a text file \"\"\"\n",
    "    with open(\"contents.txt\",'w+') as file:\n",
    "        file.write(content)\n",
    "    return \"contents has been sucessfully been saved in events.txt\"\n",
    "\n",
    "@tool\n",
    "def date():\n",
    "    \"returns today's date\"\n",
    "    from datetime import date\n",
    "    return date.today()\n",
    "\n",
    "tools = [saveevent,savecontent,date] "
   ]
  },
  {
   "cell_type": "code",
   "execution_count": 88,
   "id": "fb9d8b51",
   "metadata": {},
   "outputs": [],
   "source": [
    "# model= ChatOpenAI(model=\"z-ai/glm-4.5-air:free\",api_key=api_key,base_url=\"https://openrouter.ai/api/v1\").bind_tools(tools)\n",
    "\n",
    "model= ChatOpenAI(model=\"deepseek/deepseek-chat-v3-0324:free\",api_key=api_key,base_url=\"https://openrouter.ai/api/v1\").bind_tools(tools=tools)"
   ]
  },
  {
   "cell_type": "code",
   "execution_count": null,
   "id": "8ba1ee16",
   "metadata": {},
   "outputs": [],
   "source": [
    "test=[]\n",
    "def process(state: Agent) -> Agent:\n",
    "    system_prompt = SystemMessage(content=f\"\"\"\n",
    "    You are a scheduling assistant.\n",
    "    Output ONLY in JSON format:\n",
    "    {{\n",
    "        \"event\": \"...\",\n",
    "        \"date-time\": \"D/M/Y-H:M\",\n",
    "        \"priority\": \"high|medium|low\"\n",
    "    }}\n",
    "    the contents of this conversation are {filecontents}    \n",
    "    \"\"\")\n",
    "    \n",
    "    user_input = HumanMessage(content=input(\"Enter your task: \"))\n",
    "    final_messages = [system_prompt, user_input]\n",
    "    \n",
    "    response = model.invoke(final_messages)  # no `input=...`\n",
    "    \n",
    "    global test\n",
    "    test.append(response.content)\n",
    "\n",
    "    print(\"Full Response:\", response)\n",
    "\n",
    "    if isinstance(response, AIMessage):\n",
    "        print(\"AI says:\", response.content)\n",
    "        return {\"message\": [response]}\n",
    "    else:\n",
    "        print(\"Unexpected response type:\", type(response))\n",
    "        return {\"message\": []}"
   ]
  },
  {
   "cell_type": "code",
   "execution_count": 90,
   "id": "aba544ec",
   "metadata": {},
   "outputs": [],
   "source": [
    "graph=StateGraph(Agent)\n",
    "graph.add_node(\"user\",process)\n",
    "graph.set_entry_point(\"user\")\n",
    "graph.add_edge(\"user\",END)\n",
    "app=graph.compile()"
   ]
  },
  {
   "cell_type": "code",
   "execution_count": 91,
   "id": "74aa1206",
   "metadata": {},
   "outputs": [
    {
     "name": "stdout",
     "output_type": "stream",
     "text": [
      "Full Response: content='json\\n{\\n    \"event\": \"Son\\'s birthday\",\\n    \"date-time\": \"12/12/2023-00:00\",\\n    \"priority\": \"high\"\\n}\\n' additional_kwargs={'refusal': None} response_metadata={'token_usage': {'completion_tokens': 40, 'prompt_tokens': 311, 'total_tokens': 351, 'completion_tokens_details': None, 'prompt_tokens_details': None}, 'model_name': 'deepseek/deepseek-chat-v3-0324:free', 'system_fingerprint': None, 'id': 'gen-1754845207-RdF38Sj6tEnUmXlSZ598', 'service_tier': None, 'finish_reason': 'stop', 'logprobs': None} id='run--69e5b465-0d8f-4bd1-aba9-83d7d941a08a-0' usage_metadata={'input_tokens': 311, 'output_tokens': 40, 'total_tokens': 351, 'input_token_details': {}, 'output_token_details': {}}\n",
      "AI says: json\n",
      "{\n",
      "    \"event\": \"Son's birthday\",\n",
      "    \"date-time\": \"12/12/2023-00:00\",\n",
      "    \"priority\": \"high\"\n",
      "}\n",
      "\n"
     ]
    },
    {
     "data": {
      "text/plain": [
       "{'message': [HumanMessage(content='', additional_kwargs={}, response_metadata={}, id='5501188d-b370-4153-809f-c28bdb20f3fa'),\n",
       "  AIMessage(content='json\\n{\\n    \"event\": \"Son\\'s birthday\",\\n    \"date-time\": \"12/12/2023-00:00\",\\n    \"priority\": \"high\"\\n}\\n', additional_kwargs={'refusal': None}, response_metadata={'token_usage': {'completion_tokens': 40, 'prompt_tokens': 311, 'total_tokens': 351, 'completion_tokens_details': None, 'prompt_tokens_details': None}, 'model_name': 'deepseek/deepseek-chat-v3-0324:free', 'system_fingerprint': None, 'id': 'gen-1754845207-RdF38Sj6tEnUmXlSZ598', 'service_tier': None, 'finish_reason': 'stop', 'logprobs': None}, id='run--69e5b465-0d8f-4bd1-aba9-83d7d941a08a-0', usage_metadata={'input_tokens': 311, 'output_tokens': 40, 'total_tokens': 351, 'input_token_details': {}, 'output_token_details': {}})]}"
      ]
     },
     "execution_count": 91,
     "metadata": {},
     "output_type": "execute_result"
    }
   ],
   "source": [
    "# son's birthday tomorrow  \n",
    "app.invoke({'message':''})"
   ]
  },
  {
   "cell_type": "code",
   "execution_count": 93,
   "id": "2c83d12a",
   "metadata": {},
   "outputs": [
    {
     "data": {
      "image/png": "[encoded data removed]",
      "text/plain": [
       "<IPython.core.display.Image object>"
      ]
     },
     "metadata": {},
     "output_type": "display_data"
    }
   ],
   "source": [
    "from IPython.display import Image,display\n",
    "display(Image(app.get_graph().draw_mermaid_png()))"
   ]
  },
  {
   "cell_type": "code",
   "execution_count": null,
   "id": "3361c5cd",
   "metadata": {},
   "outputs": [],
   "source": []
  }
 ],
 "metadata": {
  "kernelspec": {
   "display_name": "base",
   "language": "python",
   "name": "python3"
  },
  "language_info": {
   "codemirror_mode": {
    "name": "ipython",
    "version": 3
   },
   "file_extension": ".py",
   "mimetype": "text/x-python",
   "name": "python",
   "nbconvert_exporter": "python",
   "pygments_lexer": "ipython3",
   "version": "3.12.7"
  }
 },
 "nbformat": 4,
 "nbformat_minor": 5
}
