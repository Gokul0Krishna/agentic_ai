{
 "cells": [
  {
   "cell_type": "code",
   "execution_count": 2,
   "id": "b8c950e5",
   "metadata": {},
   "outputs": [],
   "source": [
    "from typing import Dict,TypedDict\n",
    "from langgraph.graph import StateGraph"
   ]
  },
  {
   "cell_type": "code",
   "execution_count": 3,
   "id": "f88cbd31",
   "metadata": {},
   "outputs": [],
   "source": [
    "class calc(TypedDict):\n",
    "    name : str\n",
    "    values : list[int]\n",
    "    operation : str\n",
    "    result : str"
   ]
  },
  {
   "cell_type": "code",
   "execution_count": 4,
   "id": "507c8f6b",
   "metadata": {},
   "outputs": [],
   "source": [
    "def process(state=calc)->calc:\n",
    "    if state['operation']=='+':\n",
    "        state['result']=sum(state['values'])\n",
    "    return state"
   ]
  },
  {
   "cell_type": "code",
   "execution_count": 5,
   "id": "8fbe23cb",
   "metadata": {},
   "outputs": [],
   "source": [
    "graph=StateGraph(calc)\n",
    "graph.add_node(\"sum\",process)\n",
    "graph.set_entry_point(\"sum\")\n",
    "graph.set_finish_point(\"sum\")\n",
    "app=graph.compile()"
   ]
  },
  {
   "cell_type": "code",
   "execution_count": 6,
   "id": "dc7fa2ea",
   "metadata": {},
   "outputs": [
    {
     "name": "stdout",
     "output_type": "stream",
     "text": [
      "{'name': 'bob', 'values': [1, 2, 3], 'operation': '+', 'result': 6}\n"
     ]
    }
   ],
   "source": [
    "res=app.invoke({\"name\":\"bob\",\"operation\":\"+\",\"values\":[1,2,3]})\n",
    "print(res)"
   ]
  }
 ],
 "metadata": {
  "kernelspec": {
   "display_name": "Python 3",
   "language": "python",
   "name": "python3"
  },
  "language_info": {
   "codemirror_mode": {
    "name": "ipython",
    "version": 3
   },
   "file_extension": ".py",
   "mimetype": "text/x-python",
   "name": "python",
   "nbconvert_exporter": "python",
   "pygments_lexer": "ipython3",
   "version": "3.12.4"
  }
 },
 "nbformat": 4,
 "nbformat_minor": 5
}
