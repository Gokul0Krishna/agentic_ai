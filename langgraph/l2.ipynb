{
 "cells": [
  {
   "cell_type": "code",
   "execution_count": 1,
   "id": "e5787d08",
   "metadata": {},
   "outputs": [],
   "source": [
    "from typing import Dict,TypedDict\n",
    "from langgraph.graph import StateGraph"
   ]
  },
  {
   "cell_type": "code",
   "execution_count": 2,
   "id": "ce91b29a",
   "metadata": {},
   "outputs": [],
   "source": [
    "class Agentsate(TypedDict):\n",
    "    values : list[int]\n",
    "    name : str\n",
    "    results : str"
   ]
  },
  {
   "cell_type": "code",
   "execution_count": 7,
   "id": "4e44f100",
   "metadata": {},
   "outputs": [],
   "source": [
    "def procesvalues(state:Agentsate)->Agentsate:\n",
    "    \"\"\"handels multiple inputs\"\"\"\n",
    "    print(state)\n",
    "    state['results']= f\"{state['name']},{sum(state['values'])}\"\n",
    "    print(state)\n",
    "    return state"
   ]
  },
  {
   "cell_type": "code",
   "execution_count": 8,
   "id": "101cfdf6",
   "metadata": {},
   "outputs": [],
   "source": [
    "graph=StateGraph(Agentsate)\n",
    "graph.add_node(\"sum\",procesvalues)\n",
    "graph.set_entry_point(\"sum\")\n",
    "graph.set_finish_point(\"sum\")\n",
    "app=graph.compile()"
   ]
  },
  {
   "cell_type": "code",
   "execution_count": 9,
   "id": "3f99d878",
   "metadata": {},
   "outputs": [
    {
     "data": {
      "image/png": "[encoded data removed]",
      "text/plain": [
       "<IPython.core.display.Image object>"
      ]
     },
     "metadata": {},
     "output_type": "display_data"
    }
   ],
   "source": [
    "from IPython.display import Image,display\n",
    "display(Image(app.get_graph().draw_mermaid_png()))"
   ]
  },
  {
   "cell_type": "code",
   "execution_count": 10,
   "id": "4014db28",
   "metadata": {},
   "outputs": [
    {
     "name": "stdout",
     "output_type": "stream",
     "text": [
      "{'values': [1, 2, 3, 4], 'name': 'bob'}\n",
      "{'values': [1, 2, 3, 4], 'name': 'bob', 'results': 'bob,10'}\n",
      "{'values': [1, 2, 3, 4], 'name': 'bob', 'results': 'bob,10'}\n"
     ]
    }
   ],
   "source": [
    "res=app.invoke({\"values\":[1,2,3,4],\"name\":\"bob\"})\n",
    "print(res)"
   ]
  }
 ],
 "metadata": {
  "kernelspec": {
   "display_name": "Python 3",
   "language": "python",
   "name": "python3"
  },
  "language_info": {
   "codemirror_mode": {
    "name": "ipython",
    "version": 3
   },
   "file_extension": ".py",
   "mimetype": "text/x-python",
   "name": "python",
   "nbconvert_exporter": "python",
   "pygments_lexer": "ipython3",
   "version": "3.12.4"
  }
 },
 "nbformat": 4,
 "nbformat_minor": 5
}
