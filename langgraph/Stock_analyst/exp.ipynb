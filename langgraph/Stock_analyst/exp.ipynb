{
 "cells": [
  {
   "cell_type": "code",
   "execution_count": 18,
   "id": "1bb73694",
   "metadata": {},
   "outputs": [],
   "source": [
    "import os\n",
    "from dotenv import load_dotenv\n",
    "from pathlib import Path\n",
    "\n",
    "dotenv_path = Path('.env')\n",
    "load_dotenv(dotenv_path=dotenv_path)\n",
    "llm_api_key=os.getenv(\"deepseekkey\")\n",
    "finance_key=os.getenv('financekey')\n",
    "# print(llm_api_key,finance_key)\n"
   ]
  },
  {
   "cell_type": "code",
   "execution_count": 32,
   "id": "224f8be7",
   "metadata": {},
   "outputs": [],
   "source": [
    "from langchain_core.tools import tool\n",
    "from langgraph.prebuilt import ToolNode\n",
    "import requests\n",
    "import numpy as np\n",
    "\n",
    "URL=\"https://www.alphavantage.co/query\"\n",
    "\n",
    "@tool\n",
    "def stockprice(stock_name:str)->float:\n",
    "    \"\"\" returns the stock price for the given stock name for the day \"\"\"\n",
    "    params = {\n",
    "    \"function\": \"TIME_SERIES_INTRADAY\",\n",
    "    \"symbol\": stock_name,\n",
    "    \"apikey\": finance_key  # Replace with your actual API key\n",
    "    }\n",
    "    response = requests.get(URL, params=params)\n",
    "    data = response.json()\n",
    "    for  i in data['Time Series (Daily)']:\n",
    "        mean=abs(np.mean([float(data['Time Series (Daily)'][i]['1. open']),float(data['Time Series (Daily)'][i]['4. close'])]))\n",
    "        break\n",
    "    # print(mean)\n",
    "    return mean\n",
    "\n",
    "@tool\n",
    "def stockdetail(stock_name:str)->str:\n",
    "    '''returns information of the given stock name'''\n",
    "    params={\n",
    "        \"function\":\"OVERVIEW\",\n",
    "        \"symbol\":stock_name,\n",
    "        \"apikey\":finance_key\n",
    "    }\n",
    "    response = requests.get(URL, params=params)\n",
    "    data = response.json()\n",
    "    # print(f\"discription: {data['Description']}\\nsector: {data['Sector']}\")\n",
    "    return f\"discription: {data['Description']}\\nsector: {data['Sector']}\"\n",
    "\n",
    "tools=[stockdetail,stockprice]\n",
    "toolnode=ToolNode(tools=tools)"
   ]
  },
  {
   "cell_type": "code",
   "execution_count": null,
   "id": "61f28471",
   "metadata": {},
   "outputs": [],
   "source": [
    "from langchain_openai import ChatOpenAI\n",
    "model= ChatOpenAI(model=\"qwen/qwen3-coder:free\",api_key=llm_api_key,base_url=\"https://openrouter.ai/api/v1\").bind_tools(tools=tools)"
   ]
  },
  {
   "cell_type": "code",
   "execution_count": 34,
   "id": "f148de81",
   "metadata": {},
   "outputs": [],
   "source": [
    "from typing import TypedDict,Annotated,Sequence\n",
    "from langchain_core.messages import BaseMessage,ToolMessage,SystemMessage,HumanMessage,AIMessage\n",
    "from langgraph.graph import StateGraph, END\n",
    "from langgraph.prebuilt import ToolNode\n",
    "from langgraph.graph.message import add_messages\n",
    "\n",
    "class Agent(TypedDict):\n",
    "    message : Annotated[Sequence[BaseMessage], add_messages]\n",
    "\n",
    "\n",
    "def decision1(state:Agent):\n",
    "    a=input(\"should continue\")\n",
    "    if a==\"no\":\n",
    "        return \"end\"\n",
    "    else:\n",
    "        return \"continue\"\n",
    "\n",
    "def decision2(state:Agent):\n",
    "    if getattr(state['message'][-1],'tool_calls'):\n",
    "        return 'tools'\n",
    "    return \"print\"\n",
    "\n",
    "def llm_node(state: Agent)->Agent:\n",
    "    # inp=input(\"enter the message\")\n",
    "    inp=\"apple stock price\" #temp\n",
    "    systemprompt=[SystemMessage(content=f\"\"\"\n",
    "    You are a finance assistent that helps answers the user's queries.you have a set of tools which are\n",
    "    stockprice: use this tool get price of a stock the input requires precise stock name.\n",
    "    stockdetail: use this tool to get infromation of the company of the stock the input requires precise stock name.                             \n",
    "    \"\"\"),\n",
    "    HumanMessage(content=inp)]\n",
    "    response = model.invoke(systemprompt)\n",
    "    print(response)\n",
    "    return {\"message\": state['message']+[response]}\n",
    "\n",
    "def preetyprint(state:Agent)->Agent:\n",
    "    print(state['message'])\n",
    "    return{'message':[]}"
   ]
  },
  {
   "cell_type": "code",
   "execution_count": 35,
   "id": "9008e353",
   "metadata": {},
   "outputs": [],
   "source": [
    "graph=StateGraph(Agent)\n",
    "graph.add_node('dec1',lambda state:state)\n",
    "graph.add_node('dec2',lambda state:state)\n",
    "graph.add_node('llm',llm_node)\n",
    "graph.add_node('tools',toolnode)\n",
    "graph.add_node('print',preetyprint)\n",
    "graph.set_entry_point('dec1')\n",
    "graph.add_conditional_edges('dec1',\n",
    "                            decision1,\n",
    "                            {\n",
    "                                \"continue\":\"llm\",\n",
    "                                \"end\": END,\n",
    "                            }\n",
    "                            )\n",
    "graph.add_edge('llm','tools')\n",
    "# graph.add_conditional_edges('dec2',\n",
    "#                             decision2,\n",
    "#                             {\n",
    "#                                 \"tools\":\"tools\",\n",
    "#                                 \"print\":\"print\",\n",
    "#                             }\n",
    "#                             )\n",
    "graph.add_edge('tools','print')\n",
    "graph.add_edge('print','dec1')\n",
    "app=graph.compile()"
   ]
  },
  {
   "cell_type": "code",
   "execution_count": 36,
   "id": "402a6065",
   "metadata": {},
   "outputs": [
    {
     "data": {
      "image/png": "[encoded data removed]",
      "text/plain": [
       "<IPython.core.display.Image object>"
      ]
     },
     "metadata": {},
     "output_type": "display_data"
    }
   ],
   "source": [
    "from IPython.display import Image,display\n",
    "display(Image(app.get_graph().draw_mermaid_png()))"
   ]
  },
  {
   "cell_type": "code",
   "execution_count": 37,
   "id": "ae96bb6f",
   "metadata": {},
   "outputs": [
    {
     "name": "stdout",
     "output_type": "stream",
     "text": [
      "content='' additional_kwargs={'tool_calls': [{'id': 'call_94f8a1b7f0974966802e6f2e', 'function': {'arguments': '{\"stock_name\":\"apple\"}', 'name': 'stockprice'}, 'type': 'function', 'index': 0}], 'refusal': None} response_metadata={'token_usage': {'completion_tokens': 20, 'prompt_tokens': 290, 'total_tokens': 310, 'completion_tokens_details': None, 'prompt_tokens_details': None}, 'model_name': 'deepseek/deepseek-chat-v3-0324:free', 'system_fingerprint': None, 'id': 'gen-1755152067-JoRgLVwb89Ktx0bD6rBj', 'service_tier': None, 'finish_reason': 'tool_calls', 'logprobs': None} id='run--9c1002c4-40d6-4c2e-9319-97c35a0fb09d-0' tool_calls=[{'name': 'stockprice', 'args': {'stock_name': 'apple'}, 'id': 'call_94f8a1b7f0974966802e6f2e', 'type': 'tool_call'}] usage_metadata={'input_tokens': 290, 'output_tokens': 20, 'total_tokens': 310, 'input_token_details': {}, 'output_token_details': {}}\n"
     ]
    },
    {
     "ename": "ValueError",
     "evalue": "No message found in input",
     "output_type": "error",
     "traceback": [
      "\u001b[1;31m---------------------------------------------------------------------------\u001b[0m",
      "\u001b[1;31mValueError\u001b[0m                                Traceback (most recent call last)",
      "Cell \u001b[1;32mIn[37], line 1\u001b[0m\n\u001b[1;32m----> 1\u001b[0m res\u001b[38;5;241m=\u001b[39mapp\u001b[38;5;241m.\u001b[39minvoke({\u001b[38;5;124m'\u001b[39m\u001b[38;5;124mmessage\u001b[39m\u001b[38;5;124m'\u001b[39m:[]})\n\u001b[0;32m      2\u001b[0m \u001b[38;5;28mprint\u001b[39m(\u001b[38;5;124m'\u001b[39m\u001b[38;5;124mf =\u001b[39m\u001b[38;5;124m'\u001b[39m,res)\n",
      "File \u001b[1;32m~\\AppData\\Roaming\\Python\\Python312\\site-packages\\langgraph\\pregel\\main.py:3015\u001b[0m, in \u001b[0;36mPregel.invoke\u001b[1;34m(self, input, config, context, stream_mode, print_mode, output_keys, interrupt_before, interrupt_after, durability, **kwargs)\u001b[0m\n\u001b[0;32m   3012\u001b[0m chunks: \u001b[38;5;28mlist\u001b[39m[\u001b[38;5;28mdict\u001b[39m[\u001b[38;5;28mstr\u001b[39m, Any] \u001b[38;5;241m|\u001b[39m Any] \u001b[38;5;241m=\u001b[39m []\n\u001b[0;32m   3013\u001b[0m interrupts: \u001b[38;5;28mlist\u001b[39m[Interrupt] \u001b[38;5;241m=\u001b[39m []\n\u001b[1;32m-> 3015\u001b[0m \u001b[38;5;28;01mfor\u001b[39;00m chunk \u001b[38;5;129;01min\u001b[39;00m \u001b[38;5;28mself\u001b[39m\u001b[38;5;241m.\u001b[39mstream(\n\u001b[0;32m   3016\u001b[0m     \u001b[38;5;28minput\u001b[39m,\n\u001b[0;32m   3017\u001b[0m     config,\n\u001b[0;32m   3018\u001b[0m     context\u001b[38;5;241m=\u001b[39mcontext,\n\u001b[0;32m   3019\u001b[0m     stream_mode\u001b[38;5;241m=\u001b[39m[\u001b[38;5;124m\"\u001b[39m\u001b[38;5;124mupdates\u001b[39m\u001b[38;5;124m\"\u001b[39m, \u001b[38;5;124m\"\u001b[39m\u001b[38;5;124mvalues\u001b[39m\u001b[38;5;124m\"\u001b[39m]\n\u001b[0;32m   3020\u001b[0m     \u001b[38;5;28;01mif\u001b[39;00m stream_mode \u001b[38;5;241m==\u001b[39m \u001b[38;5;124m\"\u001b[39m\u001b[38;5;124mvalues\u001b[39m\u001b[38;5;124m\"\u001b[39m\n\u001b[0;32m   3021\u001b[0m     \u001b[38;5;28;01melse\u001b[39;00m stream_mode,\n\u001b[0;32m   3022\u001b[0m     print_mode\u001b[38;5;241m=\u001b[39mprint_mode,\n\u001b[0;32m   3023\u001b[0m     output_keys\u001b[38;5;241m=\u001b[39moutput_keys,\n\u001b[0;32m   3024\u001b[0m     interrupt_before\u001b[38;5;241m=\u001b[39minterrupt_before,\n\u001b[0;32m   3025\u001b[0m     interrupt_after\u001b[38;5;241m=\u001b[39minterrupt_after,\n\u001b[0;32m   3026\u001b[0m     durability\u001b[38;5;241m=\u001b[39mdurability,\n\u001b[0;32m   3027\u001b[0m     \u001b[38;5;241m*\u001b[39m\u001b[38;5;241m*\u001b[39mkwargs,\n\u001b[0;32m   3028\u001b[0m ):\n\u001b[0;32m   3029\u001b[0m     \u001b[38;5;28;01mif\u001b[39;00m stream_mode \u001b[38;5;241m==\u001b[39m \u001b[38;5;124m\"\u001b[39m\u001b[38;5;124mvalues\u001b[39m\u001b[38;5;124m\"\u001b[39m:\n\u001b[0;32m   3030\u001b[0m         \u001b[38;5;28;01mif\u001b[39;00m \u001b[38;5;28mlen\u001b[39m(chunk) \u001b[38;5;241m==\u001b[39m \u001b[38;5;241m2\u001b[39m:\n",
      "File \u001b[1;32m~\\AppData\\Roaming\\Python\\Python312\\site-packages\\langgraph\\pregel\\main.py:2642\u001b[0m, in \u001b[0;36mPregel.stream\u001b[1;34m(self, input, config, context, stream_mode, print_mode, output_keys, interrupt_before, interrupt_after, durability, subgraphs, debug, **kwargs)\u001b[0m\n\u001b[0;32m   2640\u001b[0m \u001b[38;5;28;01mfor\u001b[39;00m task \u001b[38;5;129;01min\u001b[39;00m loop\u001b[38;5;241m.\u001b[39mmatch_cached_writes():\n\u001b[0;32m   2641\u001b[0m     loop\u001b[38;5;241m.\u001b[39moutput_writes(task\u001b[38;5;241m.\u001b[39mid, task\u001b[38;5;241m.\u001b[39mwrites, cached\u001b[38;5;241m=\u001b[39m\u001b[38;5;28;01mTrue\u001b[39;00m)\n\u001b[1;32m-> 2642\u001b[0m \u001b[38;5;28;01mfor\u001b[39;00m _ \u001b[38;5;129;01min\u001b[39;00m runner\u001b[38;5;241m.\u001b[39mtick(\n\u001b[0;32m   2643\u001b[0m     [t \u001b[38;5;28;01mfor\u001b[39;00m t \u001b[38;5;129;01min\u001b[39;00m loop\u001b[38;5;241m.\u001b[39mtasks\u001b[38;5;241m.\u001b[39mvalues() \u001b[38;5;28;01mif\u001b[39;00m \u001b[38;5;129;01mnot\u001b[39;00m t\u001b[38;5;241m.\u001b[39mwrites],\n\u001b[0;32m   2644\u001b[0m     timeout\u001b[38;5;241m=\u001b[39m\u001b[38;5;28mself\u001b[39m\u001b[38;5;241m.\u001b[39mstep_timeout,\n\u001b[0;32m   2645\u001b[0m     get_waiter\u001b[38;5;241m=\u001b[39mget_waiter,\n\u001b[0;32m   2646\u001b[0m     schedule_task\u001b[38;5;241m=\u001b[39mloop\u001b[38;5;241m.\u001b[39maccept_push,\n\u001b[0;32m   2647\u001b[0m ):\n\u001b[0;32m   2648\u001b[0m     \u001b[38;5;66;03m# emit output\u001b[39;00m\n\u001b[0;32m   2649\u001b[0m     \u001b[38;5;28;01myield from\u001b[39;00m _output(\n\u001b[0;32m   2650\u001b[0m         stream_mode, print_mode, subgraphs, stream\u001b[38;5;241m.\u001b[39mget, queue\u001b[38;5;241m.\u001b[39mEmpty\n\u001b[0;32m   2651\u001b[0m     )\n\u001b[0;32m   2652\u001b[0m loop\u001b[38;5;241m.\u001b[39mafter_tick()\n",
      "File \u001b[1;32m~\\AppData\\Roaming\\Python\\Python312\\site-packages\\langgraph\\pregel\\_runner.py:162\u001b[0m, in \u001b[0;36mPregelRunner.tick\u001b[1;34m(self, tasks, reraise, timeout, retry_policy, get_waiter, schedule_task)\u001b[0m\n\u001b[0;32m    160\u001b[0m t \u001b[38;5;241m=\u001b[39m tasks[\u001b[38;5;241m0\u001b[39m]\n\u001b[0;32m    161\u001b[0m \u001b[38;5;28;01mtry\u001b[39;00m:\n\u001b[1;32m--> 162\u001b[0m     run_with_retry(\n\u001b[0;32m    163\u001b[0m         t,\n\u001b[0;32m    164\u001b[0m         retry_policy,\n\u001b[0;32m    165\u001b[0m         configurable\u001b[38;5;241m=\u001b[39m{\n\u001b[0;32m    166\u001b[0m             CONFIG_KEY_CALL: partial(\n\u001b[0;32m    167\u001b[0m                 _call,\n\u001b[0;32m    168\u001b[0m                 weakref\u001b[38;5;241m.\u001b[39mref(t),\n\u001b[0;32m    169\u001b[0m                 retry_policy\u001b[38;5;241m=\u001b[39mretry_policy,\n\u001b[0;32m    170\u001b[0m                 futures\u001b[38;5;241m=\u001b[39mweakref\u001b[38;5;241m.\u001b[39mref(futures),\n\u001b[0;32m    171\u001b[0m                 schedule_task\u001b[38;5;241m=\u001b[39mschedule_task,\n\u001b[0;32m    172\u001b[0m                 submit\u001b[38;5;241m=\u001b[39m\u001b[38;5;28mself\u001b[39m\u001b[38;5;241m.\u001b[39msubmit,\n\u001b[0;32m    173\u001b[0m             ),\n\u001b[0;32m    174\u001b[0m         },\n\u001b[0;32m    175\u001b[0m     )\n\u001b[0;32m    176\u001b[0m     \u001b[38;5;28mself\u001b[39m\u001b[38;5;241m.\u001b[39mcommit(t, \u001b[38;5;28;01mNone\u001b[39;00m)\n\u001b[0;32m    177\u001b[0m \u001b[38;5;28;01mexcept\u001b[39;00m \u001b[38;5;167;01mException\u001b[39;00m \u001b[38;5;28;01mas\u001b[39;00m exc:\n",
      "File \u001b[1;32m~\\AppData\\Roaming\\Python\\Python312\\site-packages\\langgraph\\pregel\\_retry.py:42\u001b[0m, in \u001b[0;36mrun_with_retry\u001b[1;34m(task, retry_policy, configurable)\u001b[0m\n\u001b[0;32m     40\u001b[0m     task\u001b[38;5;241m.\u001b[39mwrites\u001b[38;5;241m.\u001b[39mclear()\n\u001b[0;32m     41\u001b[0m     \u001b[38;5;66;03m# run the task\u001b[39;00m\n\u001b[1;32m---> 42\u001b[0m     \u001b[38;5;28;01mreturn\u001b[39;00m task\u001b[38;5;241m.\u001b[39mproc\u001b[38;5;241m.\u001b[39minvoke(task\u001b[38;5;241m.\u001b[39minput, config)\n\u001b[0;32m     43\u001b[0m \u001b[38;5;28;01mexcept\u001b[39;00m ParentCommand \u001b[38;5;28;01mas\u001b[39;00m exc:\n\u001b[0;32m     44\u001b[0m     ns: \u001b[38;5;28mstr\u001b[39m \u001b[38;5;241m=\u001b[39m config[CONF][CONFIG_KEY_CHECKPOINT_NS]\n",
      "File \u001b[1;32m~\\AppData\\Roaming\\Python\\Python312\\site-packages\\langgraph\\_internal\\_runnable.py:657\u001b[0m, in \u001b[0;36mRunnableSeq.invoke\u001b[1;34m(self, input, config, **kwargs)\u001b[0m\n\u001b[0;32m    655\u001b[0m     \u001b[38;5;66;03m# run in context\u001b[39;00m\n\u001b[0;32m    656\u001b[0m     \u001b[38;5;28;01mwith\u001b[39;00m set_config_context(config, run) \u001b[38;5;28;01mas\u001b[39;00m context:\n\u001b[1;32m--> 657\u001b[0m         \u001b[38;5;28minput\u001b[39m \u001b[38;5;241m=\u001b[39m context\u001b[38;5;241m.\u001b[39mrun(step\u001b[38;5;241m.\u001b[39minvoke, \u001b[38;5;28minput\u001b[39m, config, \u001b[38;5;241m*\u001b[39m\u001b[38;5;241m*\u001b[39mkwargs)\n\u001b[0;32m    658\u001b[0m \u001b[38;5;28;01melse\u001b[39;00m:\n\u001b[0;32m    659\u001b[0m     \u001b[38;5;28minput\u001b[39m \u001b[38;5;241m=\u001b[39m step\u001b[38;5;241m.\u001b[39minvoke(\u001b[38;5;28minput\u001b[39m, config)\n",
      "File \u001b[1;32m~\\AppData\\Roaming\\Python\\Python312\\site-packages\\langgraph\\_internal\\_runnable.py:401\u001b[0m, in \u001b[0;36mRunnableCallable.invoke\u001b[1;34m(self, input, config, **kwargs)\u001b[0m\n\u001b[0;32m    399\u001b[0m         run_manager\u001b[38;5;241m.\u001b[39mon_chain_end(ret)\n\u001b[0;32m    400\u001b[0m \u001b[38;5;28;01melse\u001b[39;00m:\n\u001b[1;32m--> 401\u001b[0m     ret \u001b[38;5;241m=\u001b[39m \u001b[38;5;28mself\u001b[39m\u001b[38;5;241m.\u001b[39mfunc(\u001b[38;5;241m*\u001b[39margs, \u001b[38;5;241m*\u001b[39m\u001b[38;5;241m*\u001b[39mkwargs)\n\u001b[0;32m    402\u001b[0m \u001b[38;5;28;01mif\u001b[39;00m \u001b[38;5;28mself\u001b[39m\u001b[38;5;241m.\u001b[39mrecurse \u001b[38;5;129;01mand\u001b[39;00m \u001b[38;5;28misinstance\u001b[39m(ret, Runnable):\n\u001b[0;32m    403\u001b[0m     \u001b[38;5;28;01mreturn\u001b[39;00m ret\u001b[38;5;241m.\u001b[39minvoke(\u001b[38;5;28minput\u001b[39m, config)\n",
      "File \u001b[1;32m~\\AppData\\Roaming\\Python\\Python312\\site-packages\\langgraph\\prebuilt\\tool_node.py:364\u001b[0m, in \u001b[0;36mToolNode._func\u001b[1;34m(self, input, config, store)\u001b[0m\n\u001b[0;32m    353\u001b[0m \u001b[38;5;28;01mdef\u001b[39;00m \u001b[38;5;21m_func\u001b[39m(\n\u001b[0;32m    354\u001b[0m     \u001b[38;5;28mself\u001b[39m,\n\u001b[0;32m    355\u001b[0m     \u001b[38;5;28minput\u001b[39m: Union[\n\u001b[1;32m   (...)\u001b[0m\n\u001b[0;32m    362\u001b[0m     store: Optional[BaseStore],\n\u001b[0;32m    363\u001b[0m ) \u001b[38;5;241m-\u001b[39m\u001b[38;5;241m>\u001b[39m Any:\n\u001b[1;32m--> 364\u001b[0m     tool_calls, input_type \u001b[38;5;241m=\u001b[39m \u001b[38;5;28mself\u001b[39m\u001b[38;5;241m.\u001b[39m_parse_input(\u001b[38;5;28minput\u001b[39m)\n\u001b[0;32m    365\u001b[0m     tool_calls \u001b[38;5;241m=\u001b[39m [\u001b[38;5;28mself\u001b[39m\u001b[38;5;241m.\u001b[39minject_tool_args(call, \u001b[38;5;28minput\u001b[39m, store) \u001b[38;5;28;01mfor\u001b[39;00m call \u001b[38;5;129;01min\u001b[39;00m tool_calls]\n\u001b[0;32m    366\u001b[0m     config_list \u001b[38;5;241m=\u001b[39m get_config_list(config, \u001b[38;5;28mlen\u001b[39m(tool_calls))\n",
      "File \u001b[1;32m~\\AppData\\Roaming\\Python\\Python312\\site-packages\\langgraph\\prebuilt\\tool_node.py:583\u001b[0m, in \u001b[0;36mToolNode._parse_input\u001b[1;34m(self, input)\u001b[0m\n\u001b[0;32m    581\u001b[0m     input_type \u001b[38;5;241m=\u001b[39m \u001b[38;5;124m\"\u001b[39m\u001b[38;5;124mdict\u001b[39m\u001b[38;5;124m\"\u001b[39m\n\u001b[0;32m    582\u001b[0m \u001b[38;5;28;01melse\u001b[39;00m:\n\u001b[1;32m--> 583\u001b[0m     \u001b[38;5;28;01mraise\u001b[39;00m \u001b[38;5;167;01mValueError\u001b[39;00m(\u001b[38;5;124m\"\u001b[39m\u001b[38;5;124mNo message found in input\u001b[39m\u001b[38;5;124m\"\u001b[39m)\n\u001b[0;32m    585\u001b[0m \u001b[38;5;28;01mtry\u001b[39;00m:\n\u001b[0;32m    586\u001b[0m     latest_ai_message \u001b[38;5;241m=\u001b[39m \u001b[38;5;28mnext\u001b[39m(\n\u001b[0;32m    587\u001b[0m         m \u001b[38;5;28;01mfor\u001b[39;00m m \u001b[38;5;129;01min\u001b[39;00m \u001b[38;5;28mreversed\u001b[39m(messages) \u001b[38;5;28;01mif\u001b[39;00m \u001b[38;5;28misinstance\u001b[39m(m, AIMessage)\n\u001b[0;32m    588\u001b[0m     )\n",
      "\u001b[1;31mValueError\u001b[0m: No message found in input",
      "\u001b[0mDuring task with name 'tools' and id 'a4ccb793-57d6-4d03-0d5f-965a92bc2708'"
     ]
    }
   ],
   "source": [
    "res=app.invoke({'message':[]})\n",
    "print('f =',res)"
   ]
  },
  {
   "cell_type": "code",
   "execution_count": null,
   "id": "1a6aa161",
   "metadata": {},
   "outputs": [],
   "source": []
  }
 ],
 "metadata": {
  "kernelspec": {
   "display_name": "base",
   "language": "python",
   "name": "python3"
  },
  "language_info": {
   "codemirror_mode": {
    "name": "ipython",
    "version": 3
   },
   "file_extension": ".py",
   "mimetype": "text/x-python",
   "name": "python",
   "nbconvert_exporter": "python",
   "pygments_lexer": "ipython3",
   "version": "3.12.7"
  }
 },
 "nbformat": 4,
 "nbformat_minor": 5
}
