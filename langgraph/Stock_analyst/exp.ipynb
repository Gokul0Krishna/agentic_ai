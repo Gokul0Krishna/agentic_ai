{
 "cells": [
  {
   "cell_type": "code",
   "execution_count": 2,
   "id": "1bb73694",
   "metadata": {},
   "outputs": [],
   "source": [
    "import os\n",
    "from dotenv import load_dotenv\n",
    "from pathlib import Path\n",
    "\n",
    "dotenv_path = Path('.env')\n",
    "load_dotenv(dotenv_path=dotenv_path)\n",
    "llm_api_key=os.getenv(\"deepseekkey\")\n",
    "finance_key=os.getenv('financekey')\n",
    "# print(llm_api_key,finance_key)\n"
   ]
  },
  {
   "cell_type": "code",
   "execution_count": null,
   "id": "224f8be7",
   "metadata": {},
   "outputs": [],
   "source": [
    "from langchain_core.tools import tool\n",
    "import requests\n",
    "\n",
    "URL=\"https://www.alphavantage.co/query?\"\n",
    "\n",
    "@tool\n",
    "def stock(stock_name:str)->str:\n",
    "    \"\"\" returns the stock price for the given stock name for the day \"\"\"\n",
    "\n",
    "\n"
   ]
  }
 ],
 "metadata": {
  "kernelspec": {
   "display_name": "base",
   "language": "python",
   "name": "python3"
  },
  "language_info": {
   "codemirror_mode": {
    "name": "ipython",
    "version": 3
   },
   "file_extension": ".py",
   "mimetype": "text/x-python",
   "name": "python",
   "nbconvert_exporter": "python",
   "pygments_lexer": "ipython3",
   "version": "3.12.7"
  }
 },
 "nbformat": 4,
 "nbformat_minor": 5
}
