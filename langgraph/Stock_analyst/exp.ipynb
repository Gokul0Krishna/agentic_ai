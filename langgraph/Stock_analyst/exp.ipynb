{
 "cells": [
  {
   "cell_type": "code",
   "execution_count": 34,
   "id": "1bb73694",
   "metadata": {},
   "outputs": [],
   "source": [
    "import os\n",
    "from dotenv import load_dotenv\n",
    "from pathlib import Path\n",
    "\n",
    "dotenv_path = Path('.env')\n",
    "load_dotenv(dotenv_path=dotenv_path)\n",
    "llm_api_key=os.getenv(\"deepseekkey\")\n",
    "finance_key=os.getenv('financekey')\n",
    "# print(llm_api_key,finance_key)\n"
   ]
  },
  {
   "cell_type": "code",
   "execution_count": 35,
   "id": "224f8be7",
   "metadata": {},
   "outputs": [],
   "source": [
    "from langchain_core.tools import tool\n",
    "from langgraph.prebuilt import ToolNode\n",
    "import requests\n",
    "import numpy as np\n",
    "\n",
    "URL=\"https://www.alphavantage.co/query\"\n",
    "\n",
    "@tool\n",
    "def stockprice(stock_name:str)->float:\n",
    "    \"\"\" returns the stock price for the given stock name for the day \"\"\"\n",
    "    params = {\n",
    "    \"function\": \"TIME_SERIES_INTRADAY\",\n",
    "    \"symbol\": stock_name,\n",
    "    \"apikey\": finance_key  # Replace with your actual API key\n",
    "    }\n",
    "    response = requests.get(URL, params=params)\n",
    "    data = response.json()\n",
    "    for  i in data['Time Series (Daily)']:\n",
    "        mean=abs(np.mean([float(data['Time Series (Daily)'][i]['1. open']),float(data['Time Series (Daily)'][i]['4. close'])]))\n",
    "        break\n",
    "    # print(mean)\n",
    "    return mean\n",
    "\n",
    "@tool\n",
    "def stockdetail(stock_name:str)->str:\n",
    "    '''returns information of the given stock name'''\n",
    "    params={\n",
    "        \"function\":\"OVERVIEW\",\n",
    "        \"symbol\":stock_name,\n",
    "        \"apikey\":finance_key\n",
    "    }\n",
    "    response = requests.get(URL, params=params)\n",
    "    data = response.json()\n",
    "    # print(f\"discription: {data['Description']}\\nsector: {data['Sector']}\")\n",
    "    return f\"discription: {data['Description']}\\nsector: {data['Sector']}\"\n",
    "\n",
    "tools=[stockdetail,stockprice]\n",
    "toolnode=ToolNode(tools=tools)"
   ]
  },
  {
   "cell_type": "code",
   "execution_count": 36,
   "id": "61f28471",
   "metadata": {},
   "outputs": [],
   "source": [
    "from langchain_openai import ChatOpenAI\n",
    "model= ChatOpenAI(model=\"deepseek/deepseek-chat-v3-0324:free\",api_key=llm_api_key,base_url=\"https://openrouter.ai/api/v1\").bind_tools(tools=tools)"
   ]
  },
  {
   "cell_type": "code",
   "execution_count": 51,
   "id": "f148de81",
   "metadata": {},
   "outputs": [],
   "source": [
    "from typing import TypedDict,Annotated,Sequence\n",
    "from langchain_core.messages import BaseMessage,ToolMessage,SystemMessage,HumanMessage,AIMessage\n",
    "from langgraph.graph import StateGraph, END\n",
    "from langgraph.prebuilt import ToolNode\n",
    "from langgraph.graph.message import add_messages\n",
    "\n",
    "class Agent(TypedDict):\n",
    "    message : Annotated[Sequence[BaseMessage], add_messages]\n",
    "\n",
    "\n",
    "def decision1(state:Agent):\n",
    "    # a=input(\"should continue\")\n",
    "    a=\"yes\"\n",
    "    if a==\"no\":\n",
    "        return \"end\"\n",
    "    else:\n",
    "        return \"continue\"\n",
    "\n",
    "def decision2(state:Agent):\n",
    "    if getattr(state['message'][-1],'tool_calls'):\n",
    "        return 'tools'\n",
    "    return \"print\"\n",
    "\n",
    "def llm_node(state: Agent)->Agent:\n",
    "    # inp=input(\"enter the message\")\n",
    "    inp=\"apple stock price\" #temp\n",
    "    systemprompt=[SystemMessage(content=f\"\"\"\n",
    "    You are a finance assistent that helps answers the user's queries.you have a set of tools which are\n",
    "    stockprice: use this tool get price of a stock the input requires precise stock name.\n",
    "    stockdetail: use this tool to get infromation of the company of the stock the input requires precise stock name.                             \n",
    "    \"\"\"),\n",
    "    HumanMessage(content=inp)]\n",
    "    # response = model.invoke(systemprompt)\n",
    "    ai_msg = AIMessage(\n",
    "        content='',\n",
    "        additional_kwargs={\n",
    "            'tool_calls': [\n",
    "                {\n",
    "                    'id': 'call_6040035298494ff0bf54f2f3',\n",
    "                    'function': {\n",
    "                        'arguments': '{\"stock_name\": \"apple\"}',\n",
    "                        'name': 'stockprice'\n",
    "                    },\n",
    "                    'type': 'function',\n",
    "                    'index': 0\n",
    "                }\n",
    "            ],\n",
    "            'refusal': None\n",
    "        },\n",
    "        id='run--b8024da6-4f17-4f22-9557-e147a8d0fa08-0',\n",
    "        tool_calls=[\n",
    "            {\n",
    "                'name': 'stockprice',\n",
    "                'args': {'stock_name': 'apple'},\n",
    "                'id': 'call_6040035298494ff0bf54f2f3',\n",
    "                'type': 'tool_call'\n",
    "            }\n",
    "        ]\n",
    "    )\n",
    "\n",
    "    return {\"message\": state['message']+[ai_msg]}\n",
    "\n",
    "def preetyprint(state:Agent)->Agent:\n",
    "    print(state['message'])\n",
    "    return{'message':[]}"
   ]
  },
  {
   "cell_type": "code",
   "execution_count": null,
   "id": "9008e353",
   "metadata": {},
   "outputs": [],
   "source": [
    "graph=StateGraph(Agent)\n",
    "graph.add_node('dec1',lambda state:state)\n",
    "graph.add_node('dec2',lambda state:state)\n",
    "graph.add_node('llm',llm_node)\n",
    "graph.add_node('tools',toolnode)\n",
    "graph.add_node('print',preetyprint)\n",
    "graph.set_entry_point('dec1')\n",
    "graph.add_conditional_edges('dec1',\n",
    "                            decision1,\n",
    "                            {\n",
    "                                \"continue\":\"llm\",\n",
    "                                \"end\": END,\n",
    "                            }\n",
    "                            )\n",
    "graph.add_edge('llm','dec2')\n",
    "graph.add_conditional_edges('dec2',\n",
    "                            decision2,\n",
    "                            {\n",
    "                                \"tools\":\"tools\",\n",
    "                                \"print\":\"print\",\n",
    "                            }\n",
    "                            )\n",
    "graph.add_edge('tools','print')\n",
    "graph.add_edge('print','dec1')\n",
    "app=graph.compile()"
   ]
  },
  {
   "cell_type": "code",
   "execution_count": 54,
   "id": "402a6065",
   "metadata": {},
   "outputs": [
    {
     "data": {
      "image/png": "[encoded data removed]",
      "text/plain": [
       "<IPython.core.display.Image object>"
      ]
     },
     "metadata": {},
     "output_type": "display_data"
    }
   ],
   "source": [
    "from IPython.display import Image,display\n",
    "display(Image(app.get_graph().draw_mermaid_png()))"
   ]
  },
  {
   "cell_type": "code",
   "execution_count": 53,
   "id": "5f5b8924",
   "metadata": {},
   "outputs": [],
   "source": [
    "graph=StateGraph(Agent)\n",
    "graph.add_node('llm',llm_node)\n",
    "graph.add_node('tools',toolnode)\n",
    "graph.set_entry_point('llm')\n",
    "graph.add_edge('llm','tools')\n",
    "graph.add_edge('tools',END)\n",
    "app=graph.compile()"
   ]
  },
  {
   "cell_type": "code",
   "execution_count": 55,
   "id": "ae96bb6f",
   "metadata": {},
   "outputs": [
    {
     "ename": "ValueError",
     "evalue": "No message found in input",
     "output_type": "error",
     "traceback": [
      "\u001b[1;31m---------------------------------------------------------------------------\u001b[0m",
      "\u001b[1;31mValueError\u001b[0m                                Traceback (most recent call last)",
      "Cell \u001b[1;32mIn[55], line 1\u001b[0m\n\u001b[1;32m----> 1\u001b[0m res\u001b[38;5;241m=\u001b[39mapp\u001b[38;5;241m.\u001b[39minvoke({\u001b[38;5;124m'\u001b[39m\u001b[38;5;124mmessage\u001b[39m\u001b[38;5;124m'\u001b[39m:[]})\n\u001b[0;32m      2\u001b[0m \u001b[38;5;28mprint\u001b[39m(\u001b[38;5;124m'\u001b[39m\u001b[38;5;124mf =\u001b[39m\u001b[38;5;124m'\u001b[39m,res)\n",
      "File \u001b[1;32m~\\AppData\\Roaming\\Python\\Python312\\site-packages\\langgraph\\pregel\\main.py:3015\u001b[0m, in \u001b[0;36mPregel.invoke\u001b[1;34m(self, input, config, context, stream_mode, print_mode, output_keys, interrupt_before, interrupt_after, durability, **kwargs)\u001b[0m\n\u001b[0;32m   3012\u001b[0m chunks: \u001b[38;5;28mlist\u001b[39m[\u001b[38;5;28mdict\u001b[39m[\u001b[38;5;28mstr\u001b[39m, Any] \u001b[38;5;241m|\u001b[39m Any] \u001b[38;5;241m=\u001b[39m []\n\u001b[0;32m   3013\u001b[0m interrupts: \u001b[38;5;28mlist\u001b[39m[Interrupt] \u001b[38;5;241m=\u001b[39m []\n\u001b[1;32m-> 3015\u001b[0m \u001b[38;5;28;01mfor\u001b[39;00m chunk \u001b[38;5;129;01min\u001b[39;00m \u001b[38;5;28mself\u001b[39m\u001b[38;5;241m.\u001b[39mstream(\n\u001b[0;32m   3016\u001b[0m     \u001b[38;5;28minput\u001b[39m,\n\u001b[0;32m   3017\u001b[0m     config,\n\u001b[0;32m   3018\u001b[0m     context\u001b[38;5;241m=\u001b[39mcontext,\n\u001b[0;32m   3019\u001b[0m     stream_mode\u001b[38;5;241m=\u001b[39m[\u001b[38;5;124m\"\u001b[39m\u001b[38;5;124mupdates\u001b[39m\u001b[38;5;124m\"\u001b[39m, \u001b[38;5;124m\"\u001b[39m\u001b[38;5;124mvalues\u001b[39m\u001b[38;5;124m\"\u001b[39m]\n\u001b[0;32m   3020\u001b[0m     \u001b[38;5;28;01mif\u001b[39;00m stream_mode \u001b[38;5;241m==\u001b[39m \u001b[38;5;124m\"\u001b[39m\u001b[38;5;124mvalues\u001b[39m\u001b[38;5;124m\"\u001b[39m\n\u001b[0;32m   3021\u001b[0m     \u001b[38;5;28;01melse\u001b[39;00m stream_mode,\n\u001b[0;32m   3022\u001b[0m     print_mode\u001b[38;5;241m=\u001b[39mprint_mode,\n\u001b[0;32m   3023\u001b[0m     output_keys\u001b[38;5;241m=\u001b[39moutput_keys,\n\u001b[0;32m   3024\u001b[0m     interrupt_before\u001b[38;5;241m=\u001b[39minterrupt_before,\n\u001b[0;32m   3025\u001b[0m     interrupt_after\u001b[38;5;241m=\u001b[39minterrupt_after,\n\u001b[0;32m   3026\u001b[0m     durability\u001b[38;5;241m=\u001b[39mdurability,\n\u001b[0;32m   3027\u001b[0m     \u001b[38;5;241m*\u001b[39m\u001b[38;5;241m*\u001b[39mkwargs,\n\u001b[0;32m   3028\u001b[0m ):\n\u001b[0;32m   3029\u001b[0m     \u001b[38;5;28;01mif\u001b[39;00m stream_mode \u001b[38;5;241m==\u001b[39m \u001b[38;5;124m\"\u001b[39m\u001b[38;5;124mvalues\u001b[39m\u001b[38;5;124m\"\u001b[39m:\n\u001b[0;32m   3030\u001b[0m         \u001b[38;5;28;01mif\u001b[39;00m \u001b[38;5;28mlen\u001b[39m(chunk) \u001b[38;5;241m==\u001b[39m \u001b[38;5;241m2\u001b[39m:\n",
      "File \u001b[1;32m~\\AppData\\Roaming\\Python\\Python312\\site-packages\\langgraph\\pregel\\main.py:2642\u001b[0m, in \u001b[0;36mPregel.stream\u001b[1;34m(self, input, config, context, stream_mode, print_mode, output_keys, interrupt_before, interrupt_after, durability, subgraphs, debug, **kwargs)\u001b[0m\n\u001b[0;32m   2640\u001b[0m \u001b[38;5;28;01mfor\u001b[39;00m task \u001b[38;5;129;01min\u001b[39;00m loop\u001b[38;5;241m.\u001b[39mmatch_cached_writes():\n\u001b[0;32m   2641\u001b[0m     loop\u001b[38;5;241m.\u001b[39moutput_writes(task\u001b[38;5;241m.\u001b[39mid, task\u001b[38;5;241m.\u001b[39mwrites, cached\u001b[38;5;241m=\u001b[39m\u001b[38;5;28;01mTrue\u001b[39;00m)\n\u001b[1;32m-> 2642\u001b[0m \u001b[38;5;28;01mfor\u001b[39;00m _ \u001b[38;5;129;01min\u001b[39;00m runner\u001b[38;5;241m.\u001b[39mtick(\n\u001b[0;32m   2643\u001b[0m     [t \u001b[38;5;28;01mfor\u001b[39;00m t \u001b[38;5;129;01min\u001b[39;00m loop\u001b[38;5;241m.\u001b[39mtasks\u001b[38;5;241m.\u001b[39mvalues() \u001b[38;5;28;01mif\u001b[39;00m \u001b[38;5;129;01mnot\u001b[39;00m t\u001b[38;5;241m.\u001b[39mwrites],\n\u001b[0;32m   2644\u001b[0m     timeout\u001b[38;5;241m=\u001b[39m\u001b[38;5;28mself\u001b[39m\u001b[38;5;241m.\u001b[39mstep_timeout,\n\u001b[0;32m   2645\u001b[0m     get_waiter\u001b[38;5;241m=\u001b[39mget_waiter,\n\u001b[0;32m   2646\u001b[0m     schedule_task\u001b[38;5;241m=\u001b[39mloop\u001b[38;5;241m.\u001b[39maccept_push,\n\u001b[0;32m   2647\u001b[0m ):\n\u001b[0;32m   2648\u001b[0m     \u001b[38;5;66;03m# emit output\u001b[39;00m\n\u001b[0;32m   2649\u001b[0m     \u001b[38;5;28;01myield from\u001b[39;00m _output(\n\u001b[0;32m   2650\u001b[0m         stream_mode, print_mode, subgraphs, stream\u001b[38;5;241m.\u001b[39mget, queue\u001b[38;5;241m.\u001b[39mEmpty\n\u001b[0;32m   2651\u001b[0m     )\n\u001b[0;32m   2652\u001b[0m loop\u001b[38;5;241m.\u001b[39mafter_tick()\n",
      "File \u001b[1;32m~\\AppData\\Roaming\\Python\\Python312\\site-packages\\langgraph\\pregel\\_runner.py:162\u001b[0m, in \u001b[0;36mPregelRunner.tick\u001b[1;34m(self, tasks, reraise, timeout, retry_policy, get_waiter, schedule_task)\u001b[0m\n\u001b[0;32m    160\u001b[0m t \u001b[38;5;241m=\u001b[39m tasks[\u001b[38;5;241m0\u001b[39m]\n\u001b[0;32m    161\u001b[0m \u001b[38;5;28;01mtry\u001b[39;00m:\n\u001b[1;32m--> 162\u001b[0m     run_with_retry(\n\u001b[0;32m    163\u001b[0m         t,\n\u001b[0;32m    164\u001b[0m         retry_policy,\n\u001b[0;32m    165\u001b[0m         configurable\u001b[38;5;241m=\u001b[39m{\n\u001b[0;32m    166\u001b[0m             CONFIG_KEY_CALL: partial(\n\u001b[0;32m    167\u001b[0m                 _call,\n\u001b[0;32m    168\u001b[0m                 weakref\u001b[38;5;241m.\u001b[39mref(t),\n\u001b[0;32m    169\u001b[0m                 retry_policy\u001b[38;5;241m=\u001b[39mretry_policy,\n\u001b[0;32m    170\u001b[0m                 futures\u001b[38;5;241m=\u001b[39mweakref\u001b[38;5;241m.\u001b[39mref(futures),\n\u001b[0;32m    171\u001b[0m                 schedule_task\u001b[38;5;241m=\u001b[39mschedule_task,\n\u001b[0;32m    172\u001b[0m                 submit\u001b[38;5;241m=\u001b[39m\u001b[38;5;28mself\u001b[39m\u001b[38;5;241m.\u001b[39msubmit,\n\u001b[0;32m    173\u001b[0m             ),\n\u001b[0;32m    174\u001b[0m         },\n\u001b[0;32m    175\u001b[0m     )\n\u001b[0;32m    176\u001b[0m     \u001b[38;5;28mself\u001b[39m\u001b[38;5;241m.\u001b[39mcommit(t, \u001b[38;5;28;01mNone\u001b[39;00m)\n\u001b[0;32m    177\u001b[0m \u001b[38;5;28;01mexcept\u001b[39;00m \u001b[38;5;167;01mException\u001b[39;00m \u001b[38;5;28;01mas\u001b[39;00m exc:\n",
      "File \u001b[1;32m~\\AppData\\Roaming\\Python\\Python312\\site-packages\\langgraph\\pregel\\_retry.py:42\u001b[0m, in \u001b[0;36mrun_with_retry\u001b[1;34m(task, retry_policy, configurable)\u001b[0m\n\u001b[0;32m     40\u001b[0m     task\u001b[38;5;241m.\u001b[39mwrites\u001b[38;5;241m.\u001b[39mclear()\n\u001b[0;32m     41\u001b[0m     \u001b[38;5;66;03m# run the task\u001b[39;00m\n\u001b[1;32m---> 42\u001b[0m     \u001b[38;5;28;01mreturn\u001b[39;00m task\u001b[38;5;241m.\u001b[39mproc\u001b[38;5;241m.\u001b[39minvoke(task\u001b[38;5;241m.\u001b[39minput, config)\n\u001b[0;32m     43\u001b[0m \u001b[38;5;28;01mexcept\u001b[39;00m ParentCommand \u001b[38;5;28;01mas\u001b[39;00m exc:\n\u001b[0;32m     44\u001b[0m     ns: \u001b[38;5;28mstr\u001b[39m \u001b[38;5;241m=\u001b[39m config[CONF][CONFIG_KEY_CHECKPOINT_NS]\n",
      "File \u001b[1;32m~\\AppData\\Roaming\\Python\\Python312\\site-packages\\langgraph\\_internal\\_runnable.py:657\u001b[0m, in \u001b[0;36mRunnableSeq.invoke\u001b[1;34m(self, input, config, **kwargs)\u001b[0m\n\u001b[0;32m    655\u001b[0m     \u001b[38;5;66;03m# run in context\u001b[39;00m\n\u001b[0;32m    656\u001b[0m     \u001b[38;5;28;01mwith\u001b[39;00m set_config_context(config, run) \u001b[38;5;28;01mas\u001b[39;00m context:\n\u001b[1;32m--> 657\u001b[0m         \u001b[38;5;28minput\u001b[39m \u001b[38;5;241m=\u001b[39m context\u001b[38;5;241m.\u001b[39mrun(step\u001b[38;5;241m.\u001b[39minvoke, \u001b[38;5;28minput\u001b[39m, config, \u001b[38;5;241m*\u001b[39m\u001b[38;5;241m*\u001b[39mkwargs)\n\u001b[0;32m    658\u001b[0m \u001b[38;5;28;01melse\u001b[39;00m:\n\u001b[0;32m    659\u001b[0m     \u001b[38;5;28minput\u001b[39m \u001b[38;5;241m=\u001b[39m step\u001b[38;5;241m.\u001b[39minvoke(\u001b[38;5;28minput\u001b[39m, config)\n",
      "File \u001b[1;32m~\\AppData\\Roaming\\Python\\Python312\\site-packages\\langgraph\\_internal\\_runnable.py:401\u001b[0m, in \u001b[0;36mRunnableCallable.invoke\u001b[1;34m(self, input, config, **kwargs)\u001b[0m\n\u001b[0;32m    399\u001b[0m         run_manager\u001b[38;5;241m.\u001b[39mon_chain_end(ret)\n\u001b[0;32m    400\u001b[0m \u001b[38;5;28;01melse\u001b[39;00m:\n\u001b[1;32m--> 401\u001b[0m     ret \u001b[38;5;241m=\u001b[39m \u001b[38;5;28mself\u001b[39m\u001b[38;5;241m.\u001b[39mfunc(\u001b[38;5;241m*\u001b[39margs, \u001b[38;5;241m*\u001b[39m\u001b[38;5;241m*\u001b[39mkwargs)\n\u001b[0;32m    402\u001b[0m \u001b[38;5;28;01mif\u001b[39;00m \u001b[38;5;28mself\u001b[39m\u001b[38;5;241m.\u001b[39mrecurse \u001b[38;5;129;01mand\u001b[39;00m \u001b[38;5;28misinstance\u001b[39m(ret, Runnable):\n\u001b[0;32m    403\u001b[0m     \u001b[38;5;28;01mreturn\u001b[39;00m ret\u001b[38;5;241m.\u001b[39minvoke(\u001b[38;5;28minput\u001b[39m, config)\n",
      "File \u001b[1;32m~\\AppData\\Roaming\\Python\\Python312\\site-packages\\langgraph\\prebuilt\\tool_node.py:364\u001b[0m, in \u001b[0;36mToolNode._func\u001b[1;34m(self, input, config, store)\u001b[0m\n\u001b[0;32m    353\u001b[0m \u001b[38;5;28;01mdef\u001b[39;00m \u001b[38;5;21m_func\u001b[39m(\n\u001b[0;32m    354\u001b[0m     \u001b[38;5;28mself\u001b[39m,\n\u001b[0;32m    355\u001b[0m     \u001b[38;5;28minput\u001b[39m: Union[\n\u001b[1;32m   (...)\u001b[0m\n\u001b[0;32m    362\u001b[0m     store: Optional[BaseStore],\n\u001b[0;32m    363\u001b[0m ) \u001b[38;5;241m-\u001b[39m\u001b[38;5;241m>\u001b[39m Any:\n\u001b[1;32m--> 364\u001b[0m     tool_calls, input_type \u001b[38;5;241m=\u001b[39m \u001b[38;5;28mself\u001b[39m\u001b[38;5;241m.\u001b[39m_parse_input(\u001b[38;5;28minput\u001b[39m)\n\u001b[0;32m    365\u001b[0m     tool_calls \u001b[38;5;241m=\u001b[39m [\u001b[38;5;28mself\u001b[39m\u001b[38;5;241m.\u001b[39minject_tool_args(call, \u001b[38;5;28minput\u001b[39m, store) \u001b[38;5;28;01mfor\u001b[39;00m call \u001b[38;5;129;01min\u001b[39;00m tool_calls]\n\u001b[0;32m    366\u001b[0m     config_list \u001b[38;5;241m=\u001b[39m get_config_list(config, \u001b[38;5;28mlen\u001b[39m(tool_calls))\n",
      "File \u001b[1;32m~\\AppData\\Roaming\\Python\\Python312\\site-packages\\langgraph\\prebuilt\\tool_node.py:583\u001b[0m, in \u001b[0;36mToolNode._parse_input\u001b[1;34m(self, input)\u001b[0m\n\u001b[0;32m    581\u001b[0m     input_type \u001b[38;5;241m=\u001b[39m \u001b[38;5;124m\"\u001b[39m\u001b[38;5;124mdict\u001b[39m\u001b[38;5;124m\"\u001b[39m\n\u001b[0;32m    582\u001b[0m \u001b[38;5;28;01melse\u001b[39;00m:\n\u001b[1;32m--> 583\u001b[0m     \u001b[38;5;28;01mraise\u001b[39;00m \u001b[38;5;167;01mValueError\u001b[39;00m(\u001b[38;5;124m\"\u001b[39m\u001b[38;5;124mNo message found in input\u001b[39m\u001b[38;5;124m\"\u001b[39m)\n\u001b[0;32m    585\u001b[0m \u001b[38;5;28;01mtry\u001b[39;00m:\n\u001b[0;32m    586\u001b[0m     latest_ai_message \u001b[38;5;241m=\u001b[39m \u001b[38;5;28mnext\u001b[39m(\n\u001b[0;32m    587\u001b[0m         m \u001b[38;5;28;01mfor\u001b[39;00m m \u001b[38;5;129;01min\u001b[39;00m \u001b[38;5;28mreversed\u001b[39m(messages) \u001b[38;5;28;01mif\u001b[39;00m \u001b[38;5;28misinstance\u001b[39m(m, AIMessage)\n\u001b[0;32m    588\u001b[0m     )\n",
      "\u001b[1;31mValueError\u001b[0m: No message found in input",
      "\u001b[0mDuring task with name 'tools' and id '99000e68-9199-1d9c-413a-f87a2d434ff5'"
     ]
    }
   ],
   "source": [
    "res=app.invoke({'message':[]})\n",
    "print('f =',res)"
   ]
  },
  {
   "cell_type": "code",
   "execution_count": null,
   "id": "1a6aa161",
   "metadata": {},
   "outputs": [],
   "source": [
    "f = {'message': [AIMessage(content='', additional_kwargs={'tool_calls': [{'id': 'call_6040035298494ff0bf54f2f3', 'function': {'arguments': '{\"stock_name\": \"apple\"}', 'name': 'stockprice'}, 'type': 'function', 'index': 0}], 'refusal': None}, response_metadata={'token_usage': {'completion_tokens': 24, 'prompt_tokens': 400, 'total_tokens': 424, 'completion_tokens_details': None, 'prompt_tokens_details': None}, 'model_name': 'qwen/qwen3-coder:free', 'system_fingerprint': None, 'id': 'gen-1755153745-DgQYk0IOlSk48yCN0SUp', 'service_tier': None, 'finish_reason': 'tool_calls', 'logprobs': None}, id='run--b8024da6-4f17-4f22-9557-e147a8d0fa08-0', tool_calls=[{'name': 'stockprice', 'args': {'stock_name': 'apple'}, 'id': 'call_6040035298494ff0bf54f2f3', 'type': 'tool_call'}], usage_metadata={'input_tokens': 400, 'output_tokens': 24, 'total_tokens': 424, 'input_token_details': {}, 'output_token_details': {}})]}"
   ]
  },
  {
   "cell_type": "code",
   "execution_count": 46,
   "id": "cabeb5a8",
   "metadata": {},
   "outputs": [
    {
     "data": {
      "text/plain": [
       "[{'name': 'stockprice',\n",
       "  'args': {'stock_name': 'apple'},\n",
       "  'id': 'call_6040035298494ff0bf54f2f3',\n",
       "  'type': 'tool_call'}]"
      ]
     },
     "execution_count": 46,
     "metadata": {},
     "output_type": "execute_result"
    }
   ],
   "source": [
    "f['message'][0].tool_calls"
   ]
  },
  {
   "cell_type": "code",
   "execution_count": null,
   "id": "236ac6b0",
   "metadata": {},
   "outputs": [
    {
     "name": "stdout",
     "output_type": "stream",
     "text": [
      "{'messages': [HumanMessage(content='apple stock price', additional_kwargs={}, response_metadata={}, id='28b9b87e-99bd-445a-af16-6308c0dd9294'), AIMessage(content='', additional_kwargs={}, response_metadata={}, id='b40f05a7-ea23-4968-83c0-34daf6ca348f', tool_calls=[{'name': 'stockprice', 'args': {'stock_name': 'AAPL'}, 'id': 'call_123', 'type': 'tool_call'}]), ToolMessage(content='232.2', name='stockprice', id='ed32c385-b79b-45d4-b887-e08689c318f6', tool_call_id='call_123')]}\n"
     ]
    }
   ],
   "source": [
    "from langchain_core.messages import HumanMessage, AIMessage, SystemMessage\n",
    "from langgraph.graph import StateGraph, MessagesState\n",
    "from langchain_core.tools import tool\n",
    "import requests, numpy as np\n",
    "\n",
    "finance_key = \"YOUR_KEY\"\n",
    "URL = \"https://www.alphavantage.co/query\"\n",
    "\n",
    "@tool\n",
    "def stockprice(stock_name: str) -> float:\n",
    "    \"\"\"Returns the stock price for the given stock name for the day.\"\"\"\n",
    "    params = {\n",
    "        \"function\": \"TIME_SERIES_DAILY\",\n",
    "        \"symbol\": stock_name,\n",
    "        \"apikey\": finance_key\n",
    "    }\n",
    "    try:\n",
    "        response = requests.get(URL, params=params)\n",
    "        data = response.json()\n",
    "        for i in data['Time Series (Daily)']:\n",
    "            mean = abs(np.mean([\n",
    "                float(data['Time Series (Daily)'][i]['1. open']),\n",
    "                float(data['Time Series (Daily)'][i]['4. close'])\n",
    "            ]))\n",
    "            break\n",
    "        return mean\n",
    "    except Exception as e:\n",
    "@tool\n",
    "def stockdetail(stock_name: str) -> str:\n",
    "    \"\"\"Returns information of the given stock name.\"\"\"\n",
    "    params = {\n",
    "        \"function\": \"OVERVIEW\",\n",
    "        \"symbol\": stock_name,\n",
    "        \"apikey\": finance_key\n",
    "    }\n",
    "    response = requests.get(URL, params=params)\n",
    "    data = response.json()\n",
    "    return f\"description: {data.get('Description', '')}\\nsector: {data.get('Sector', '')}\"\n",
    "\n",
    "tools = [stockdetail, stockprice]\n",
    "\n",
    "def llm_node(state: MessagesState) -> MessagesState:\n",
    "    # Normally you call your model here; I’m hardcoding the output\n",
    "    ai_msg = AIMessage(\n",
    "        content='',\n",
    "        tool_calls=[{\n",
    "            'name': 'stockprice',\n",
    "            'args': {'stock_name': 'AAPL'},  # <-- Must match your tool arg name\n",
    "            'id': 'call_123',\n",
    "            'type': 'tool_call'\n",
    "        }]\n",
    "    )\n",
    "    return {\"messages\": state[\"messages\"] + [ai_msg]}\n",
    "\n",
    "toolnode = ToolNode(tools=tools)\n",
    "\n",
    "# Build graph\n",
    "graph = StateGraph(MessagesState)\n",
    "graph.add_node(\"llm\", llm_node)\n",
    "graph.add_node(\"tools\", toolnode)\n",
    "\n",
    "graph.add_edge(\"llm\", \"tools\")\n",
    "graph.set_entry_point(\"llm\")\n",
    "\n",
    "app = graph.compile()\n",
    "\n",
    "# Run\n",
    "res = app.invoke({\"messages\": [HumanMessage(content=\"apple stock price\")]})\n",
    "print(res)\n"
   ]
  },
  {
   "cell_type": "code",
   "execution_count": 61,
   "id": "c86e9021",
   "metadata": {},
   "outputs": [
    {
     "name": "stdout",
     "output_type": "stream",
     "text": [
      "{'Meta Data': {'1. Information': 'Daily Prices (open, high, low, close) and Volumes', '2. Symbol': 'IBM', '3. Last Refreshed': '2025-08-13', '4. Output Size': 'Compact', '5. Time Zone': 'US/Eastern'}, 'Time Series (Daily)': {'2025-08-13': {'1. open': '236.2000', '2. high': '240.8411', '3. low': '236.2000', '4. close': '240.0700', '5. volume': '5663562'}, '2025-08-12': {'1. open': '236.5300', '2. high': '237.9600', '3. low': '233.3600', '4. close': '234.7700', '5. volume': '8800597'}, '2025-08-11': {'1. open': '242.2400', '2. high': '243.1500', '3. low': '234.7000', '4. close': '236.3000', '5. volume': '9381960'}, '2025-08-08': {'1. open': '248.8800', '2. high': '249.4800', '3. low': '241.6500', '4. close': '242.2700', '5. volume': '6828390'}, '2025-08-07': {'1. open': '252.8100', '2. high': '255.0000', '3. low': '248.8750', '4. close': '250.1600', '5. volume': '6251285'}, '2025-08-06': {'1. open': '251.5300', '2. high': '254.3200', '3. low': '249.2800', '4. close': '252.2800', '5. volume': '3692105'}, '2025-08-05': {'1. open': '252.0000', '2. high': '252.8000', '3. low': '248.9950', '4. close': '250.6700', '5. volume': '5823016'}, '2025-08-04': {'1. open': '251.0500', '2. high': '252.0800', '3. low': '248.1100', '4. close': '251.9800', '5. volume': '5280588'}, '2025-08-01': {'1. open': '251.4050', '2. high': '251.4791', '3. low': '245.6100', '4. close': '250.0500', '5. volume': '9683404'}, '2025-07-31': {'1. open': '259.5700', '2. high': '259.9900', '3. low': '252.2200', '4. close': '253.1500', '5. volume': '6739092'}, '2025-07-30': {'1. open': '261.6000', '2. high': '262.0000', '3. low': '258.9000', '4. close': '260.2600', '5. volume': '3718290'}, '2025-07-29': {'1. open': '264.3000', '2. high': '265.7999', '3. low': '261.0200', '4. close': '262.4100', '5. volume': '4627265'}, '2025-07-28': {'1. open': '260.3000', '2. high': '264.0000', '3. low': '259.6100', '4. close': '263.2100', '5. volume': '5192516'}, '2025-07-25': {'1. open': '260.0200', '2. high': '260.8000', '3. low': '256.3500', '4. close': '259.7200', '5. volume': '7758653'}, '2025-07-24': {'1. open': '261.2500', '2. high': '262.0486', '3. low': '252.7500', '4. close': '260.5100', '5. volume': '22647720'}, '2025-07-23': {'1. open': '284.3000', '2. high': '288.0800', '3. low': '281.4400', '4. close': '282.0100', '5. volume': '8105906'}, '2025-07-22': {'1. open': '284.7400', '2. high': '284.8800', '3. low': '281.2500', '4. close': '281.9600', '5. volume': '4824219'}, '2025-07-21': {'1. open': '286.2900', '2. high': '287.7300', '3. low': '284.3800', '4. close': '284.7100', '5. volume': '3051791'}, '2025-07-18': {'1. open': '283.3800', '2. high': '287.1600', '3. low': '282.2200', '4. close': '285.8700', '5. volume': '4478165'}, '2025-07-17': {'1. open': '281.5000', '2. high': '283.4566', '3. low': '280.9000', '4. close': '282.0000', '5. volume': '3337168'}, '2025-07-16': {'1. open': '282.7500', '2. high': '283.8700', '3. low': '279.8700', '4. close': '281.9200', '5. volume': '2804831'}, '2025-07-15': {'1. open': '283.7700', '2. high': '284.1550', '3. low': '280.7301', '4. close': '282.7000', '5. volume': '2864106'}, '2025-07-14': {'1. open': '282.8300', '2. high': '284.9250', '3. low': '281.7100', '4. close': '283.7900', '5. volume': '2857401'}, '2025-07-11': {'1. open': '285.0100', '2. high': '287.4300', '3. low': '282.9200', '4. close': '283.5900', '5. volume': '3790679'}, '2025-07-10': {'1. open': '288.9000', '2. high': '288.9000', '3. low': '282.2100', '4. close': '287.4300', '5. volume': '3489068'}, '2025-07-09': {'1. open': '291.3900', '2. high': '291.6000', '3. low': '288.6300', '4. close': '290.1400', '5. volume': '2971309'}, '2025-07-08': {'1. open': '293.1000', '2. high': '295.6100', '3. low': '289.4900', '4. close': '290.4200', '5. volume': '2925329'}, '2025-07-07': {'1. open': '292.5000', '2. high': '295.2199', '3. low': '290.3607', '4. close': '292.4700', '5. volume': '4488064'}, '2025-07-03': {'1. open': '287.9400', '2. high': '292.3200', '3. low': '287.9000', '4. close': '291.9700', '5. volume': '1853289'}, '2025-07-02': {'1. open': '290.0000', '2. high': '290.1900', '3. low': '286.9000', '4. close': '287.6500', '5. volume': '3257515'}, '2025-07-01': {'1. open': '294.5500', '2. high': '295.1081', '3. low': '290.0800', '4. close': '291.2000', '5. volume': '3272797'}, '2025-06-30': {'1. open': '290.9300', '2. high': '294.8100', '3. low': '290.0000', '4. close': '294.7800', '5. volume': '3495386'}, '2025-06-27': {'1. open': '292.9700', '2. high': '293.1200', '3. low': '288.5200', '4. close': '289.7000', '5. volume': '3562501'}, '2025-06-26': {'1. open': '291.8000', '2. high': '292.9100', '3. low': '290.1650', '4. close': '291.9300', '5. volume': '3621110'}, '2025-06-25': {'1. open': '294.4900', '2. high': '296.1600', '3. low': '289.5000', '4. close': '291.0600', '5. volume': '3862309'}, '2025-06-24': {'1. open': '290.4600', '2. high': '294.3399', '3. low': '288.4100', '4. close': '293.7900', '5. volume': '4219120'}, '2025-06-23': {'1. open': '281.6500', '2. high': '289.5800', '3. low': '280.2100', '4. close': '289.1800', '5. volume': '3786159'}, '2025-06-20': {'1. open': '279.2800', '2. high': '284.1200', '3. low': '277.2000', '4. close': '280.9700', '5. volume': '7676962'}, '2025-06-18': {'1. open': '285.0000', '2. high': '286.9100', '3. low': '282.9400', '4. close': '283.2100', '5. volume': '3534110'}, '2025-06-17': {'1. open': '281.1500', '2. high': '284.7899', '3. low': '281.0001', '4. close': '283.0500', '5. volume': '3069556'}, '2025-06-16': {'1. open': '279.3050', '2. high': '284.5000', '3. low': '278.6657', '4. close': '281.8300', '5. volume': '3685321'}, '2025-06-13': {'1. open': '278.2050', '2. high': '279.8400', '3. low': '275.8300', '4. close': '277.2200', '5. volume': '3243824'}, '2025-06-12': {'1. open': '281.5300', '2. high': '283.0600', '3. low': '279.8300', '4. close': '281.0300', '5. volume': '3418007'}, '2025-06-11': {'1. open': '276.7000', '2. high': '281.7500', '3. low': '275.1100', '4. close': '281.5200', '5. volume': '4656034'}, '2025-06-10': {'1. open': '273.1900', '2. high': '277.4700', '3. low': '272.5600', '4. close': '276.2400', '5. volume': '5163507'}, '2025-06-09': {'1. open': '268.1000', '2. high': '273.4700', '3. low': '266.7100', '4. close': '272.0800', '5. volume': '4331464'}, '2025-06-06': {'1. open': '267.9900', '2. high': '270.1700', '3. low': '267.5300', '4. close': '268.8700', '5. volume': '2495543'}, '2025-06-05': {'1. open': '265.2000', '2. high': '267.5100', '3. low': '265.1000', '4. close': '266.8600', '5. volume': '2659478'}, '2025-06-04': {'1. open': '264.9000', '2. high': '267.0000', '3. low': '264.7900', '4. close': '265.5200', '5. volume': '2588741'}, '2025-06-03': {'1. open': '263.3500', '2. high': '265.5600', '3. low': '262.5800', '4. close': '265.2000', '5. volume': '2494922'}, '2025-06-02': {'1. open': '257.8500', '2. high': '263.9760', '3. low': '257.2200', '4. close': '263.9000', '5. volume': '2831881'}, '2025-05-30': {'1. open': '258.7500', '2. high': '260.1200', '3. low': '257.1000', '4. close': '259.0600', '5. volume': '9668923'}, '2025-05-29': {'1. open': '260.7500', '2. high': '261.1300', '3. low': '256.7700', '4. close': '258.6900', '5. volume': '2295228'}, '2025-05-28': {'1. open': '263.1600', '2. high': '265.0000', '3. low': '259.9400', '4. close': '260.2400', '5. volume': '2318437'}, '2025-05-27': {'1. open': '261.0000', '2. high': '263.7869', '3. low': '259.6300', '4. close': '263.2300', '5. volume': '3284216'}, '2025-05-23': {'1. open': '258.5800', '2. high': '259.8696', '3. low': '255.7900', '4. close': '258.6300', '5. volume': '2722721'}, '2025-05-22': {'1. open': '260.7700', '2. high': '261.2711', '3. low': '257.9100', '4. close': '258.3700', '5. volume': '3091253'}, '2025-05-21': {'1. open': '264.9700', '2. high': '265.6499', '3. low': '260.4100', '4. close': '260.8700', '5. volume': '3753904'}, '2025-05-20': {'1. open': '267.4000', '2. high': '269.2800', '3. low': '265.6201', '4. close': '266.9500', '5. volume': '2437860'}, '2025-05-19': {'1. open': '265.4500', '2. high': '269.1350', '3. low': '265.0800', '4. close': '268.4100', '5. volume': '3198903'}, '2025-05-16': {'1. open': '266.3500', '2. high': '267.9800', '3. low': '264.5900', '4. close': '266.7600', '5. volume': '3817937'}, '2025-05-15': {'1. open': '259.0100', '2. high': '267.4300', '3. low': '258.6100', '4. close': '266.6800', '5. volume': '4856276'}, '2025-05-14': {'1. open': '257.6000', '2. high': '260.5500', '3. low': '256.2200', '4. close': '257.8200', '5. volume': '3635124'}, '2025-05-13': {'1. open': '254.4300', '2. high': '259.5800', '3. low': '252.8800', '4. close': '258.5900', '5. volume': '3521389'}, '2025-05-12': {'1. open': '252.5000', '2. high': '253.8100', '3. low': '244.6500', '4. close': '253.6900', '5. volume': '4609520'}, '2025-05-09': {'1. open': '252.5100', '2. high': '253.0000', '3. low': '247.6400', '4. close': '249.2000', '5. volume': '2901346'}, '2025-05-08': {'1. open': '255.0000', '2. high': '256.5200', '3. low': '253.2500', '4. close': '254.1400', '5. volume': '3637012'}, '2025-05-07': {'1. open': '249.4500', '2. high': '254.4700', '3. low': '248.8320', '4. close': '253.3700', '5. volume': '3400001'}, '2025-05-06': {'1. open': '247.7600', '2. high': '250.1900', '3. low': '246.1100', '4. close': '249.1200', '5. volume': '2900556'}, '2025-05-05': {'1. open': '243.7400', '2. high': '249.8000', '3. low': '243.6400', '4. close': '249.1800', '5. volume': '4138168'}, '2025-05-02': {'1. open': '243.1250', '2. high': '245.6900', '3. low': '241.3300', '4. close': '245.5500', '5. volume': '3731946'}, '2025-05-01': {'1. open': '241.4400', '2. high': '242.3700', '3. low': '237.9450', '4. close': '239.6600', '5. volume': '4243294'}, '2025-04-30': {'1. open': '236.7300', '2. high': '242.4700', '3. low': '234.3401', '4. close': '241.8200', '5. volume': '5142993'}, '2025-04-29': {'1. open': '237.0000', '2. high': '239.9800', '3. low': '236.1400', '4. close': '239.3900', '5. volume': '3426508'}, '2025-04-28': {'1. open': '232.8600', '2. high': '236.6300', '3. low': '232.0700', '4. close': '236.1600', '5. volume': '3653461'}, '2025-04-25': {'1. open': '228.9500', '2. high': '233.3600', '3. low': '226.3200', '4. close': '232.4100', '5. volume': '6700068'}, '2025-04-24': {'1. open': '231.1750', '2. high': '232.7800', '3. low': '224.4401', '4. close': '229.3300', '5. volume': '15428144'}, '2025-04-23': {'1. open': '246.0000', '2. high': '249.3400', '3. low': '243.6600', '4. close': '245.4800', '5. volume': '7948259'}, '2025-04-22': {'1. open': '238.5000', '2. high': '242.6400', '3. low': '238.0200', '4. close': '240.9000', '5. volume': '4232658'}, '2025-04-21': {'1. open': '238.0650', '2. high': '240.8050', '3. low': '232.9300', '4. close': '236.2200', '5. volume': '4908923'}, '2025-04-17': {'1. open': '239.6800', '2. high': '241.7750', '3. low': '237.4000', '4. close': '238.8100', '5. volume': '4635204'}, '2025-04-16': {'1. open': '240.2800', '2. high': '243.2999', '3. low': '235.8900', '4. close': '238.5700', '5. volume': '4870299'}, '2025-04-15': {'1. open': '239.5500', '2. high': '241.5300', '3. low': '238.2700', '4. close': '240.7000', '5. volume': '3363708'}, '2025-04-14': {'1. open': '239.7700', '2. high': '241.7700', '3. low': '236.7300', '4. close': '239.0600', '5. volume': '3321717'}, '2025-04-11': {'1. open': '229.7200', '2. high': '237.5800', '3. low': '227.5100', '4. close': '235.4800', '5. volume': '4325895'}, '2025-04-10': {'1. open': '231.0000', '2. high': '232.5700', '3. low': '222.0200', '4. close': '229.5500', '5. volume': '5656108'}, '2025-04-09': {'1. open': '217.1200', '2. high': '236.3000', '3. low': '215.1636', '4. close': '235.3100', '5. volume': '7302808'}, '2025-04-08': {'1. open': '232.5600', '2. high': '233.0500', '3. low': '217.2800', '4. close': '221.0300', '5. volume': '6849996'}, '2025-04-07': {'1. open': '219.2400', '2. high': '232.2900', '3. low': '214.5000', '4. close': '225.7800', '5. volume': '7797889'}, '2025-04-04': {'1. open': '238.0000', '2. high': '240.1600', '3. low': '226.8800', '4. close': '227.4800', '5. volume': '7407096'}, '2025-04-03': {'1. open': '242.7100', '2. high': '250.6100', '3. low': '242.5300', '4. close': '243.4900', '5. volume': '5309626'}, '2025-04-02': {'1. open': '248.2200', '2. high': '252.7900', '3. low': '247.2300', '4. close': '249.9800', '5. volume': '4080832'}, '2025-04-01': {'1. open': '248.0300', '2. high': '250.6200', '3. low': '243.4900', '4. close': '250.3400', '5. volume': '4413139'}, '2025-03-31': {'1. open': '242.7400', '2. high': '250.8900', '3. low': '242.4900', '4. close': '248.6600', '5. volume': '6794972'}, '2025-03-28': {'1. open': '246.2700', '2. high': '247.5700', '3. low': '242.0700', '4. close': '244.0000', '5. volume': '3125594'}, '2025-03-27': {'1. open': '249.7100', '2. high': '250.3000', '3. low': '245.7250', '4. close': '246.2100', '5. volume': '2889328'}, '2025-03-26': {'1. open': '251.2500', '2. high': '254.3200', '3. low': '249.5300', '4. close': '250.3400', '5. volume': '4452220'}, '2025-03-25': {'1. open': '248.3600', '2. high': '250.9000', '3. low': '248.2000', '4. close': '249.9000', '5. volume': '3133809'}, '2025-03-24': {'1. open': '247.3100', '2. high': '248.8200', '3. low': '245.9650', '4. close': '248.4500', '5. volume': '4753331'}, '2025-03-21': {'1. open': '241.6900', '2. high': '245.2050', '3. low': '238.5000', '4. close': '243.8700', '5. volume': '9580084'}}}\n",
      "238.135\n"
     ]
    }
   ],
   "source": [
    "params = {\n",
    "        \"function\": \"TIME_SERIES_DAILY\",\n",
    "        \"symbol\": 'IBM',\n",
    "        \"apikey\": finance_key\n",
    "    }\n",
    "response = requests.get(URL, params=params)\n",
    "data = response.json()\n",
    "print(data)\n",
    "for i in data['Time Series (Daily)']:\n",
    "    mean = abs(np.mean([\n",
    "        float(data['Time Series (Daily)'][i]['1. open']),\n",
    "        float(data['Time Series (Daily)'][i]['4. close'])\n",
    "    ]))\n",
    "    break\n",
    "print(mean)"
   ]
  },
  {
   "cell_type": "code",
   "execution_count": null,
   "id": "b631aedb",
   "metadata": {},
   "outputs": [],
   "source": []
  }
 ],
 "metadata": {
  "kernelspec": {
   "display_name": "base",
   "language": "python",
   "name": "python3"
  },
  "language_info": {
   "codemirror_mode": {
    "name": "ipython",
    "version": 3
   },
   "file_extension": ".py",
   "mimetype": "text/x-python",
   "name": "python",
   "nbconvert_exporter": "python",
   "pygments_lexer": "ipython3",
   "version": "3.12.7"
  }
 },
 "nbformat": 4,
 "nbformat_minor": 5
}
