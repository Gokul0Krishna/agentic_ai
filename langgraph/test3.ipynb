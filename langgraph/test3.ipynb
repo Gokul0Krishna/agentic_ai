{
 "cells": [
  {
   "cell_type": "code",
   "execution_count": 2,
   "id": "67c88257",
   "metadata": {},
   "outputs": [],
   "source": [
    "from typing import Dict,TypedDict\n",
    "from langgraph.graph import StateGraph"
   ]
  },
  {
   "cell_type": "code",
   "execution_count": 4,
   "id": "fa3bc7eb",
   "metadata": {},
   "outputs": [],
   "source": [
    "class Agent(TypedDict):\n",
    "    name: str\n",
    "    age: str \n",
    "    skills: str\n",
    "    result : str"
   ]
  },
  {
   "cell_type": "code",
   "execution_count": 11,
   "id": "66992cd8",
   "metadata": {},
   "outputs": [],
   "source": [
    "def node1(state:Agent)->Agent:\n",
    "    state['result']=f\"hi {state['name']}\"\n",
    "    return state\n",
    "\n",
    "def node2(state:Agent)->Agent:\n",
    "    state['result']+=f\", age = {state['age']}\"\n",
    "    return state\n",
    "\n",
    "def node3(state:Agent)->Agent:\n",
    "    state['result']+=f\", skills = {state['skills']}\"\n",
    "    return state"
   ]
  },
  {
   "cell_type": "code",
   "execution_count": 12,
   "id": "09b22ccb",
   "metadata": {},
   "outputs": [],
   "source": [
    "graph=StateGraph(Agent)\n",
    "graph.add_node(\"1\",node1)\n",
    "graph.add_node(\"2\",node2)\n",
    "graph.add_node(\"3\",node3)\n",
    "\n",
    "graph.set_entry_point('1')\n",
    "graph.add_edge('1','2')\n",
    "graph.add_edge('2','3')\n",
    "graph.set_finish_point('3')\n",
    "\n",
    "app=graph.compile()\n"
   ]
  },
  {
   "cell_type": "code",
   "execution_count": 13,
   "id": "55d9497c",
   "metadata": {},
   "outputs": [
    {
     "data": {
      "image/png": "[encoded data removed]",
      "text/plain": [
       "<IPython.core.display.Image object>"
      ]
     },
     "metadata": {},
     "output_type": "display_data"
    }
   ],
   "source": [
    "from IPython.display import Image,display\n",
    "display(Image(app.get_graph().draw_mermaid_png()))"
   ]
  },
  {
   "cell_type": "code",
   "execution_count": 14,
   "id": "d5c3f60b",
   "metadata": {},
   "outputs": [
    {
     "name": "stdout",
     "output_type": "stream",
     "text": [
      "{'name': 'bob', 'age': '21', 'skills': 'none', 'result': 'hi bob, age = 21, skills = none'}\n"
     ]
    }
   ],
   "source": [
    "res=app.invoke({'name':'bob','age':'21',\"skills\":\"none\"})\n",
    "print(res)"
   ]
  }
 ],
 "metadata": {
  "kernelspec": {
   "display_name": "Python 3",
   "language": "python",
   "name": "python3"
  },
  "language_info": {
   "codemirror_mode": {
    "name": "ipython",
    "version": 3
   },
   "file_extension": ".py",
   "mimetype": "text/x-python",
   "name": "python",
   "nbconvert_exporter": "python",
   "pygments_lexer": "ipython3",
   "version": "3.12.4"
  }
 },
 "nbformat": 4,
 "nbformat_minor": 5
}
