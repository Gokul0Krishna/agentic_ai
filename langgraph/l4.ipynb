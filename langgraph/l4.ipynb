{
 "cells": [
  {
   "cell_type": "code",
   "execution_count": 2,
   "id": "ac3b51ae",
   "metadata": {},
   "outputs": [],
   "source": [
    "from typing import Dict,TypedDict\n",
    "from langgraph.graph import StateGraph,START,END"
   ]
  },
  {
   "cell_type": "code",
   "execution_count": 3,
   "id": "a0c36ab6",
   "metadata": {},
   "outputs": [],
   "source": [
    "class Agent(TypedDict):\n",
    "    n1 : int\n",
    "    n2 : int\n",
    "    result : int\n",
    "    operation : str"
   ]
  },
  {
   "cell_type": "code",
   "execution_count": null,
   "id": "51006a20",
   "metadata": {},
   "outputs": [],
   "source": [
    "def nod1(state:Agent)->Agent:\n",
    "    state['result']=state['n1']+state['n2']\n",
    "\n",
    "    return state\n",
    "\n",
    "def nod2(state:Agent)->Agent:\n",
    "    state['result']=state['n1']-state['n2']\n",
    "\n",
    "    return state\n",
    "\n",
    "def dicide(state:Agent)->Agent:\n",
    "    if state['operation']=='+':\n",
    "        return \"add\"\n",
    "    else:\n",
    "        return \"minus\""
   ]
  },
  {
   "cell_type": "code",
   "execution_count": null,
   "id": "0f571ccc",
   "metadata": {},
   "outputs": [],
   "source": [
    "graph=StateGraph(Agent)\n",
    "graph.add_node(\"add\",nod1)\n",
    "graph.add_node(\"minus\",nod2)\n",
    "graph.add_node(\"dec\",lambda state:state)\n",
    "\n",
    "graph.add_edge(START,\"dec\")\n",
    "graph.add_conditional_edges(\n",
    "    \"dec\",\n",
    "    dicide,\n",
    "    \"add\":'nod1',\n",
    "    \"minus\":\"nod2\"\n",
    ")\n",
    "\n",
    "graph.set_entry_point(\"name\")\n",
    "graph.add_edge(\"name\",\"age\")\n",
    "graph.set_finish_point(\"age\")\n",
    "app=graph.compile()"
   ]
  }
 ],
 "metadata": {
  "kernelspec": {
   "display_name": "Python 3",
   "language": "python",
   "name": "python3"
  },
  "language_info": {
   "codemirror_mode": {
    "name": "ipython",
    "version": 3
   },
   "file_extension": ".py",
   "mimetype": "text/x-python",
   "name": "python",
   "nbconvert_exporter": "python",
   "pygments_lexer": "ipython3",
   "version": "3.12.4"
  }
 },
 "nbformat": 4,
 "nbformat_minor": 5
}
