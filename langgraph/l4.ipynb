{
 "cells": [
  {
   "cell_type": "code",
   "execution_count": 2,
   "id": "ac3b51ae",
   "metadata": {},
   "outputs": [],
   "source": [
    "from typing import Dict,TypedDict\n",
    "from langgraph.graph import StateGraph,START,END"
   ]
  },
  {
   "cell_type": "code",
   "execution_count": 3,
   "id": "a0c36ab6",
   "metadata": {},
   "outputs": [],
   "source": [
    "class Agent(TypedDict):\n",
    "    n1 : int\n",
    "    n2 : int\n",
    "    result : int\n",
    "    operation : str"
   ]
  },
  {
   "cell_type": "code",
   "execution_count": null,
   "id": "51006a20",
   "metadata": {},
   "outputs": [],
   "source": [
    "def nod1(state:Agent)->Agent:\n",
    "    state['result']+=state['n1']+state['n2']\n",
    "\n",
    "    return state\n",
    "\n",
    "def nod2(state:Agent)->Agent:\n",
    "    state['result']=state['n1']-state['n2']\n",
    "\n",
    "    return state\n",
    "\n",
    "def dicide(state:Agent)->Agent:\n",
    "    if state['operation']=='+':\n",
    "        return \"add\"\n",
    "    else:\n",
    "        return \"minus\""
   ]
  },
  {
   "cell_type": "code",
   "execution_count": 20,
   "id": "0f571ccc",
   "metadata": {},
   "outputs": [],
   "source": [
    "graph=StateGraph(Agent)\n",
    "graph.add_node(\"add\",nod1)\n",
    "graph.add_node(\"minus\",nod2)\n",
    "graph.add_node(\"addi\",nod1)\n",
    "graph.add_node(\"minusi\",nod2)\n",
    "graph.add_node(\"dec\",lambda state:state)\n",
    "graph.add_node(\"deci\",lambda state:state)\n",
    "\n",
    "graph.add_edge(START,\"dec\")\n",
    "\n",
    "graph.add_conditional_edges(\n",
    "    \"dec\",\n",
    "    dicide,\n",
    "    {\n",
    "    \"add\":'add',\n",
    "    \"minus\":\"minus\"\n",
    "    }\n",
    ")\n",
    "\n",
    "graph.add_edge(\"add\",\"deci\")\n",
    "graph.add_edge(\"minus\",\"deci\")\n",
    "\n",
    "graph.add_conditional_edges(\n",
    "    \"deci\",\n",
    "    dicide,\n",
    "    {\n",
    "    \"add\":'addi',\n",
    "    \"minus\":\"minusi\"\n",
    "    }\n",
    ")\n",
    "\n",
    "\n",
    "graph.add_edge(\"addi\",END)\n",
    "graph.add_edge(\"minusi\",END)\n",
    "app=graph.compile()"
   ]
  },
  {
   "cell_type": "code",
   "execution_count": 21,
   "id": "545abd79",
   "metadata": {},
   "outputs": [
    {
     "data": {
      "image/png": "[encoded data removed]",
      "text/plain": [
       "<IPython.core.display.Image object>"
      ]
     },
     "metadata": {},
     "output_type": "display_data"
    }
   ],
   "source": [
    "from IPython.display import Image,display\n",
    "display(Image(app.get_graph().draw_mermaid_png()))"
   ]
  },
  {
   "cell_type": "code",
   "execution_count": 23,
   "id": "97bea4b2",
   "metadata": {},
   "outputs": [
    {
     "data": {
      "text/plain": [
       "{'n1': 1, 'n2': 2, 'result': 3, 'operation': '+'}"
      ]
     },
     "execution_count": 23,
     "metadata": {},
     "output_type": "execute_result"
    }
   ],
   "source": [
    "res=app.invoke({'n1':1,\"n2\":2,\"operation\":\"+\"})\n",
    "res"
   ]
  }
 ],
 "metadata": {
  "kernelspec": {
   "display_name": "Python 3",
   "language": "python",
   "name": "python3"
  },
  "language_info": {
   "codemirror_mode": {
    "name": "ipython",
    "version": 3
   },
   "file_extension": ".py",
   "mimetype": "text/x-python",
   "name": "python",
   "nbconvert_exporter": "python",
   "pygments_lexer": "ipython3",
   "version": "3.12.4"
  }
 },
 "nbformat": 4,
 "nbformat_minor": 5
}
